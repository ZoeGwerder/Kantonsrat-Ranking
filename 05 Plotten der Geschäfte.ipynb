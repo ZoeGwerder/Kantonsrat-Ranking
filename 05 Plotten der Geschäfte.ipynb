{
 "cells": [
  {
   "cell_type": "markdown",
   "metadata": {},
   "source": [
    "# Die Plotversuche"
   ]
  },
  {
   "cell_type": "code",
   "execution_count": 1,
   "metadata": {},
   "outputs": [
    {
     "name": "stdout",
     "output_type": "stream",
     "text": [
      "NetworkX version: 2.3\n"
     ]
    }
   ],
   "source": [
    "%matplotlib inline\n",
    "import numpy as np\n",
    "import requests\n",
    "import pandas as pd\n",
    "from bs4 import BeautifulSoup\n",
    "from datetime import datetime\n",
    "import numpy as np\n",
    "import requests, zipfile, io #zum abspeichern von PDFs\n",
    "from tqdm import tqdm # Anzeigen des aktuellen Ladestandes\n",
    "import PyPDF2\n",
    "import re\n",
    "from os import listdir\n",
    "from os.path import isfile, join\n",
    "import locale\n",
    "import matplotlib.pyplot as plt\n",
    "import warnings\n",
    "warnings.filterwarnings('ignore')\n",
    "\n",
    "import networkx as nx\n",
    "import matplotlib.pyplot as plt\n",
    "%matplotlib inline\n",
    "print('NetworkX version: {}'.format(nx.__version__))"
   ]
  },
  {
   "cell_type": "code",
   "execution_count": 2,
   "metadata": {},
   "outputs": [],
   "source": [
    "df=pd.read_csv(\"KRFrames/df_tuti_Ganzes_Frame\")"
   ]
  },
  {
   "cell_type": "code",
   "execution_count": null,
   "metadata": {},
   "outputs": [],
   "source": []
  },
  {
   "cell_type": "code",
   "execution_count": 3,
   "metadata": {},
   "outputs": [],
   "source": [
    "df1= df[[\"VorlageNR\", \"Namenganz\",\"Geschäft\", \"Stand\", \"Einreichedatum\"]]"
   ]
  },
  {
   "cell_type": "code",
   "execution_count": 4,
   "metadata": {},
   "outputs": [
    {
     "data": {
      "text/html": [
       "<div>\n",
       "<style scoped>\n",
       "    .dataframe tbody tr th:only-of-type {\n",
       "        vertical-align: middle;\n",
       "    }\n",
       "\n",
       "    .dataframe tbody tr th {\n",
       "        vertical-align: top;\n",
       "    }\n",
       "\n",
       "    .dataframe thead th {\n",
       "        text-align: right;\n",
       "    }\n",
       "</style>\n",
       "<table border=\"1\" class=\"dataframe\">\n",
       "  <thead>\n",
       "    <tr style=\"text-align: right;\">\n",
       "      <th></th>\n",
       "      <th>VorlageNR</th>\n",
       "      <th>Namenganz</th>\n",
       "      <th>Geschäft</th>\n",
       "      <th>Stand</th>\n",
       "      <th>Einreichedatum</th>\n",
       "    </tr>\n",
       "  </thead>\n",
       "  <tbody>\n",
       "    <tr>\n",
       "      <td>2019-11-26</td>\n",
       "      <td>3031</td>\n",
       "      <td>SVP-Fraktion SVP</td>\n",
       "      <td>Interpellation der SVP-Fraktion betreffend Sic...</td>\n",
       "      <td>Einreichung</td>\n",
       "      <td>2019-11-26</td>\n",
       "    </tr>\n",
       "    <tr>\n",
       "      <td>2019-11-26</td>\n",
       "      <td>3030</td>\n",
       "      <td>SVP-Fraktion SVP</td>\n",
       "      <td>Motion der SVP-Fraktion betreffend Stärkung de...</td>\n",
       "      <td>Einreichung</td>\n",
       "      <td>2019-11-26</td>\n",
       "    </tr>\n",
       "    <tr>\n",
       "      <td>2019-11-24</td>\n",
       "      <td>3029</td>\n",
       "      <td>Alternative ALG</td>\n",
       "      <td>Interpellation der Fraktion Alternative - die ...</td>\n",
       "      <td>Einreichung</td>\n",
       "      <td>2019-11-24</td>\n",
       "    </tr>\n",
       "    <tr>\n",
       "      <td>2019-11-15</td>\n",
       "      <td>3026</td>\n",
       "      <td>Thomas Gander FDP</td>\n",
       "      <td>Interpellation von Markus Spörri und Thomas Ga...</td>\n",
       "      <td>Einreichung</td>\n",
       "      <td>2019-11-15</td>\n",
       "    </tr>\n",
       "    <tr>\n",
       "      <td>2019-11-15</td>\n",
       "      <td>3026</td>\n",
       "      <td>Markus Spörri FDP</td>\n",
       "      <td>Interpellation von Markus Spörri und Thomas Ga...</td>\n",
       "      <td>Einreichung</td>\n",
       "      <td>2019-11-15</td>\n",
       "    </tr>\n",
       "    <tr>\n",
       "      <td>...</td>\n",
       "      <td>...</td>\n",
       "      <td>...</td>\n",
       "      <td>...</td>\n",
       "      <td>...</td>\n",
       "      <td>...</td>\n",
       "    </tr>\n",
       "    <tr>\n",
       "      <td>2005-04-26</td>\n",
       "      <td>857</td>\n",
       "      <td>Karl Betschart SVP</td>\n",
       "      <td>Motion von Heinz Tännler, Karl Betschart und H...</td>\n",
       "      <td>Datenmigration</td>\n",
       "      <td>2005-04-26</td>\n",
       "    </tr>\n",
       "    <tr>\n",
       "      <td>2002-12-03</td>\n",
       "      <td>836</td>\n",
       "      <td>Käty Hofer Buser SP</td>\n",
       "      <td>Interpellation von Käty Hofer Buser betreffend...</td>\n",
       "      <td>Datenmigration</td>\n",
       "      <td>2002-12-03</td>\n",
       "    </tr>\n",
       "    <tr>\n",
       "      <td>2002-08-13</td>\n",
       "      <td>810</td>\n",
       "      <td>Marcel Meyer CVP</td>\n",
       "      <td>Motion von Marcel Meyer betreffend Vergabe von...</td>\n",
       "      <td>Datenmigration</td>\n",
       "      <td>2002-08-13</td>\n",
       "    </tr>\n",
       "    <tr>\n",
       "      <td>2006-08-22</td>\n",
       "      <td>801</td>\n",
       "      <td>Hans Abicht FDP</td>\n",
       "      <td>Motion von Hans Abicht betreffend Raumkonzept ...</td>\n",
       "      <td>Datenmigration</td>\n",
       "      <td>2006-08-22</td>\n",
       "    </tr>\n",
       "    <tr>\n",
       "      <td>2003-05-27</td>\n",
       "      <td>304</td>\n",
       "      <td>Manuela Weichelt ALG</td>\n",
       "      <td>Motion von Manuela Weichelt betreffend HIV-Prä...</td>\n",
       "      <td>Datenmigration</td>\n",
       "      <td>2003-05-27</td>\n",
       "    </tr>\n",
       "  </tbody>\n",
       "</table>\n",
       "<p>1803 rows × 5 columns</p>\n",
       "</div>"
      ],
      "text/plain": [
       "            VorlageNR             Namenganz  \\\n",
       "2019-11-26       3031      SVP-Fraktion SVP   \n",
       "2019-11-26       3030      SVP-Fraktion SVP   \n",
       "2019-11-24       3029       Alternative ALG   \n",
       "2019-11-15       3026     Thomas Gander FDP   \n",
       "2019-11-15       3026     Markus Spörri FDP   \n",
       "...               ...                   ...   \n",
       "2005-04-26        857    Karl Betschart SVP   \n",
       "2002-12-03        836   Käty Hofer Buser SP   \n",
       "2002-08-13        810      Marcel Meyer CVP   \n",
       "2006-08-22        801       Hans Abicht FDP   \n",
       "2003-05-27        304  Manuela Weichelt ALG   \n",
       "\n",
       "                                                     Geschäft           Stand  \\\n",
       "2019-11-26  Interpellation der SVP-Fraktion betreffend Sic...     Einreichung   \n",
       "2019-11-26  Motion der SVP-Fraktion betreffend Stärkung de...     Einreichung   \n",
       "2019-11-24  Interpellation der Fraktion Alternative - die ...     Einreichung   \n",
       "2019-11-15  Interpellation von Markus Spörri und Thomas Ga...     Einreichung   \n",
       "2019-11-15  Interpellation von Markus Spörri und Thomas Ga...     Einreichung   \n",
       "...                                                       ...             ...   \n",
       "2005-04-26  Motion von Heinz Tännler, Karl Betschart und H...  Datenmigration   \n",
       "2002-12-03  Interpellation von Käty Hofer Buser betreffend...  Datenmigration   \n",
       "2002-08-13  Motion von Marcel Meyer betreffend Vergabe von...  Datenmigration   \n",
       "2006-08-22  Motion von Hans Abicht betreffend Raumkonzept ...  Datenmigration   \n",
       "2003-05-27  Motion von Manuela Weichelt betreffend HIV-Prä...  Datenmigration   \n",
       "\n",
       "           Einreichedatum  \n",
       "2019-11-26     2019-11-26  \n",
       "2019-11-26     2019-11-26  \n",
       "2019-11-24     2019-11-24  \n",
       "2019-11-15     2019-11-15  \n",
       "2019-11-15     2019-11-15  \n",
       "...                   ...  \n",
       "2005-04-26     2005-04-26  \n",
       "2002-12-03     2002-12-03  \n",
       "2002-08-13     2002-08-13  \n",
       "2006-08-22     2006-08-22  \n",
       "2003-05-27     2003-05-27  \n",
       "\n",
       "[1803 rows x 5 columns]"
      ]
     },
     "execution_count": 4,
     "metadata": {},
     "output_type": "execute_result"
    }
   ],
   "source": [
    "df2=df1.set_index(pd.DatetimeIndex(df1[\"Einreichedatum\"]).date)\n",
    "df2"
   ]
  },
  {
   "cell_type": "code",
   "execution_count": 5,
   "metadata": {},
   "outputs": [],
   "source": [
    "df33=df2.drop_duplicates(\"VorlageNR\")"
   ]
  },
  {
   "cell_type": "code",
   "execution_count": 6,
   "metadata": {},
   "outputs": [],
   "source": [
    "df3=df33.sort_index(ascending=False).head(1102)"
   ]
  },
  {
   "cell_type": "code",
   "execution_count": 7,
   "metadata": {},
   "outputs": [],
   "source": [
    "df3.index= pd.to_datetime(df3.index) #nun den Index in datetime umwalndeln"
   ]
  },
  {
   "cell_type": "code",
   "execution_count": 8,
   "metadata": {},
   "outputs": [
    {
     "data": {
      "text/html": [
       "<div>\n",
       "<style scoped>\n",
       "    .dataframe tbody tr th:only-of-type {\n",
       "        vertical-align: middle;\n",
       "    }\n",
       "\n",
       "    .dataframe tbody tr th {\n",
       "        vertical-align: top;\n",
       "    }\n",
       "\n",
       "    .dataframe thead th {\n",
       "        text-align: right;\n",
       "    }\n",
       "</style>\n",
       "<table border=\"1\" class=\"dataframe\">\n",
       "  <thead>\n",
       "    <tr style=\"text-align: right;\">\n",
       "      <th></th>\n",
       "      <th>VorlageNR</th>\n",
       "      <th>Namenganz</th>\n",
       "      <th>Geschäft</th>\n",
       "      <th>Stand</th>\n",
       "      <th>Einreichedatum</th>\n",
       "    </tr>\n",
       "  </thead>\n",
       "  <tbody>\n",
       "    <tr>\n",
       "      <td>2019-11-26</td>\n",
       "      <td>3031</td>\n",
       "      <td>SVP-Fraktion SVP</td>\n",
       "      <td>Interpellation der SVP-Fraktion betreffend Sic...</td>\n",
       "      <td>Einreichung</td>\n",
       "      <td>2019-11-26</td>\n",
       "    </tr>\n",
       "    <tr>\n",
       "      <td>2019-11-26</td>\n",
       "      <td>3030</td>\n",
       "      <td>SVP-Fraktion SVP</td>\n",
       "      <td>Motion der SVP-Fraktion betreffend Stärkung de...</td>\n",
       "      <td>Einreichung</td>\n",
       "      <td>2019-11-26</td>\n",
       "    </tr>\n",
       "    <tr>\n",
       "      <td>2019-11-24</td>\n",
       "      <td>3029</td>\n",
       "      <td>Alternative ALG</td>\n",
       "      <td>Interpellation der Fraktion Alternative - die ...</td>\n",
       "      <td>Einreichung</td>\n",
       "      <td>2019-11-24</td>\n",
       "    </tr>\n",
       "    <tr>\n",
       "      <td>2019-11-15</td>\n",
       "      <td>3026</td>\n",
       "      <td>Thomas Gander FDP</td>\n",
       "      <td>Interpellation von Markus Spörri und Thomas Ga...</td>\n",
       "      <td>Einreichung</td>\n",
       "      <td>2019-11-15</td>\n",
       "    </tr>\n",
       "    <tr>\n",
       "      <td>2019-11-06</td>\n",
       "      <td>3024</td>\n",
       "      <td>Claus Soltermann GLP</td>\n",
       "      <td>Interpellation von Claus Soltermann und Heinz ...</td>\n",
       "      <td>Überweisung an Regierungsrat</td>\n",
       "      <td>2019-11-06</td>\n",
       "    </tr>\n",
       "    <tr>\n",
       "      <td>...</td>\n",
       "      <td>...</td>\n",
       "      <td>...</td>\n",
       "      <td>...</td>\n",
       "      <td>...</td>\n",
       "      <td>...</td>\n",
       "    </tr>\n",
       "    <tr>\n",
       "      <td>NaT</td>\n",
       "      <td>2273</td>\n",
       "      <td>Franz Hürlimann CVP</td>\n",
       "      <td>Postulat von Florian Weber und Franz Hürlimann...</td>\n",
       "      <td>Datenmigration</td>\n",
       "      <td>NaN</td>\n",
       "    </tr>\n",
       "    <tr>\n",
       "      <td>NaT</td>\n",
       "      <td>2175</td>\n",
       "      <td>Thomas Aeschi SVP</td>\n",
       "      <td>Interpellation von Thomas Aeschi betreffend Üb...</td>\n",
       "      <td>Datenmigration</td>\n",
       "      <td>NaN</td>\n",
       "    </tr>\n",
       "    <tr>\n",
       "      <td>NaT</td>\n",
       "      <td>2035</td>\n",
       "      <td>Alternative ALG</td>\n",
       "      <td>Postulat der Alternativen Grünen Fraktion und ...</td>\n",
       "      <td>Datenmigration</td>\n",
       "      <td>NaN</td>\n",
       "    </tr>\n",
       "    <tr>\n",
       "      <td>NaT</td>\n",
       "      <td>1817</td>\n",
       "      <td>Silvan Hotz CVP</td>\n",
       "      <td>Kleine  Anfrage von Silvan Hotz betreffend Sep...</td>\n",
       "      <td>Datenmigration</td>\n",
       "      <td>NaN</td>\n",
       "    </tr>\n",
       "    <tr>\n",
       "      <td>NaT</td>\n",
       "      <td>1710</td>\n",
       "      <td>Vreni Wicky CVP</td>\n",
       "      <td>Motion von Vreni Wicky betreffend Gerichtsents...</td>\n",
       "      <td>Datenmigration</td>\n",
       "      <td>NaN</td>\n",
       "    </tr>\n",
       "  </tbody>\n",
       "</table>\n",
       "<p>1102 rows × 5 columns</p>\n",
       "</div>"
      ],
      "text/plain": [
       "            VorlageNR             Namenganz  \\\n",
       "2019-11-26       3031      SVP-Fraktion SVP   \n",
       "2019-11-26       3030      SVP-Fraktion SVP   \n",
       "2019-11-24       3029       Alternative ALG   \n",
       "2019-11-15       3026     Thomas Gander FDP   \n",
       "2019-11-06       3024  Claus Soltermann GLP   \n",
       "...               ...                   ...   \n",
       "NaT              2273   Franz Hürlimann CVP   \n",
       "NaT              2175     Thomas Aeschi SVP   \n",
       "NaT              2035       Alternative ALG   \n",
       "NaT              1817       Silvan Hotz CVP   \n",
       "NaT              1710       Vreni Wicky CVP   \n",
       "\n",
       "                                                     Geschäft  \\\n",
       "2019-11-26  Interpellation der SVP-Fraktion betreffend Sic...   \n",
       "2019-11-26  Motion der SVP-Fraktion betreffend Stärkung de...   \n",
       "2019-11-24  Interpellation der Fraktion Alternative - die ...   \n",
       "2019-11-15  Interpellation von Markus Spörri und Thomas Ga...   \n",
       "2019-11-06  Interpellation von Claus Soltermann und Heinz ...   \n",
       "...                                                       ...   \n",
       "NaT         Postulat von Florian Weber und Franz Hürlimann...   \n",
       "NaT         Interpellation von Thomas Aeschi betreffend Üb...   \n",
       "NaT         Postulat der Alternativen Grünen Fraktion und ...   \n",
       "NaT         Kleine  Anfrage von Silvan Hotz betreffend Sep...   \n",
       "NaT         Motion von Vreni Wicky betreffend Gerichtsents...   \n",
       "\n",
       "                                   Stand Einreichedatum  \n",
       "2019-11-26                   Einreichung     2019-11-26  \n",
       "2019-11-26                   Einreichung     2019-11-26  \n",
       "2019-11-24                   Einreichung     2019-11-24  \n",
       "2019-11-15                   Einreichung     2019-11-15  \n",
       "2019-11-06  Überweisung an Regierungsrat     2019-11-06  \n",
       "...                                  ...            ...  \n",
       "NaT                       Datenmigration            NaN  \n",
       "NaT                       Datenmigration            NaN  \n",
       "NaT                       Datenmigration            NaN  \n",
       "NaT                       Datenmigration            NaN  \n",
       "NaT                       Datenmigration            NaN  \n",
       "\n",
       "[1102 rows x 5 columns]"
      ]
     },
     "execution_count": 8,
     "metadata": {},
     "output_type": "execute_result"
    }
   ],
   "source": [
    "df5=df3\n",
    "df5"
   ]
  },
  {
   "cell_type": "markdown",
   "metadata": {},
   "source": [
    "# Ergebnisse\n",
    "nun scheint es endlich zu stimmen. Mal schauen wie es aussieht."
   ]
  },
  {
   "cell_type": "code",
   "execution_count": 9,
   "metadata": {},
   "outputs": [
    {
     "data": {
      "text/plain": [
       "1982-12-31    1\n",
       "1983-01-31    0\n",
       "1983-02-28    0\n",
       "1983-03-31    0\n",
       "1983-04-30    0\n",
       "             ..\n",
       "2019-07-31    6\n",
       "2019-08-31    3\n",
       "2019-09-30    7\n",
       "2019-10-31    6\n",
       "2019-11-30    5\n",
       "Name: Geschäft, Length: 444, dtype: int64"
      ]
     },
     "execution_count": 9,
     "metadata": {},
     "output_type": "execute_result"
    }
   ],
   "source": [
    "df5[\"Geschäft\"].resample(\"M\").count()"
   ]
  },
  {
   "cell_type": "markdown",
   "metadata": {},
   "source": [
    "# Hier das Ergebnis\n",
    "Zahlen 2009 weisen (Wahljahre 2010/2011) nicht auf eine solche Veränderung hin. Die Zahlen für die Wahljahre 14/15 und 18/19 hingegen schon.\n",
    "HMMM oder doch nicht - das Resutat scheint nicht so klar"
   ]
  },
  {
   "cell_type": "code",
   "execution_count": 10,
   "metadata": {},
   "outputs": [
    {
     "data": {
      "text/plain": [
       "<matplotlib.axes._subplots.AxesSubplot at 0x2a359ba5a90>"
      ]
     },
     "execution_count": 10,
     "metadata": {},
     "output_type": "execute_result"
    },
    {
     "data": {
      "image/png": "[encoded data removed]",
      "text/plain": [
       "<Figure size 1080x288 with 1 Axes>"
      ]
     },
     "metadata": {
      "needs_background": "light"
     },
     "output_type": "display_data"
    }
   ],
   "source": [
    "\n",
    "df5[\"Geschäft\"].resample(\"Q\").count()[\"2005\":].plot(figsize=(15,4), kind=\"bar\")"
   ]
  },
  {
   "cell_type": "code",
   "execution_count": 11,
   "metadata": {},
   "outputs": [
    {
     "data": {
      "text/plain": [
       "2005-12-31    52\n",
       "2006-12-31    49\n",
       "2007-12-31    74\n",
       "2008-12-31    84\n",
       "2009-12-31    70\n",
       "2010-12-31    48\n",
       "2011-12-31    45\n",
       "2012-12-31    45\n",
       "2013-12-31    59\n",
       "2014-12-31    75\n",
       "2015-12-31    61\n",
       "2016-12-31    77\n",
       "2017-12-31    69\n",
       "2018-12-31    66\n",
       "2019-12-31    71\n",
       "Name: Geschäft, dtype: int64"
      ]
     },
     "execution_count": 11,
     "metadata": {},
     "output_type": "execute_result"
    }
   ],
   "source": [
    "df5[\"Geschäft\"].resample(\"A\").count()[\"2005\":]"
   ]
  },
  {
   "cell_type": "code",
   "execution_count": 12,
   "metadata": {},
   "outputs": [
    {
     "data": {
      "text/plain": [
       "<matplotlib.axes._subplots.AxesSubplot at 0x2a35a1d7518>"
      ]
     },
     "execution_count": 12,
     "metadata": {},
     "output_type": "execute_result"
    },
    {
     "data": {
      "image/png": "[encoded data removed]",
      "text/plain": [
       "<Figure size 1080x288 with 1 Axes>"
      ]
     },
     "metadata": {
      "needs_background": "light"
     },
     "output_type": "display_data"
    }
   ],
   "source": [
    "# so sieht der Verlauf über die Jahre hinweg aus. 2011 ein Tief und seither wieder eher konstant.\n",
    "# Wobei das aktuelle Jahr ja eigentlich noch nicht zu Ende ist, und die Daten von Oktober sind. \n",
    "# 2014 war ein Spitzenjahr. \n",
    "df5[\"Geschäft\"].resample(\"A\").count()[\"2005\":].plot(figsize=(15,4), kind=\"bar\")"
   ]
  },
  {
   "cell_type": "markdown",
   "metadata": {},
   "source": [
    "df5[\"Geschäft\"].resample(\"Y\").count()[\"2005\":].plot(figsize=(15,4))"
   ]
  },
  {
   "cell_type": "code",
   "execution_count": 13,
   "metadata": {},
   "outputs": [
    {
     "data": {
      "text/plain": [
       "2005-12-31    52\n",
       "2006-12-31    49\n",
       "2007-12-31    74\n",
       "2008-12-31    84\n",
       "2009-12-31    70\n",
       "2010-12-31    48\n",
       "2011-12-31    45\n",
       "2012-12-31    45\n",
       "2013-12-31    59\n",
       "2014-12-31    75\n",
       "2015-12-31    61\n",
       "2016-12-31    77\n",
       "2017-12-31    69\n",
       "2018-12-31    66\n",
       "2019-12-31    71\n",
       "Name: Geschäft, dtype: int64"
      ]
     },
     "execution_count": 13,
     "metadata": {},
     "output_type": "execute_result"
    }
   ],
   "source": [
    "df5[\"Geschäft\"].resample(\"A\").count()[\"2005\":]"
   ]
  },
  {
   "cell_type": "code",
   "execution_count": 17,
   "metadata": {
    "scrolled": true
   },
   "outputs": [
    {
     "data": {
      "text/plain": [
       "<matplotlib.axes._subplots.AxesSubplot at 0x23b81ab7e10>"
      ]
     },
     "execution_count": 17,
     "metadata": {},
     "output_type": "execute_result"
    },
    {
     "data": {
      "image/png": "[encoded data removed]",
      "text/plain": [
       "<Figure size 1080x288 with 1 Axes>"
      ]
     },
     "metadata": {
      "needs_background": "light"
     },
     "output_type": "display_data"
    }
   ],
   "source": [
    "df5[\"Geschäft\"].resample(\"A\").count()[\"2005\":].plot(figsize=(15,4))"
   ]
  },
  {
   "cell_type": "code",
   "execution_count": 16,
   "metadata": {
    "scrolled": true
   },
   "outputs": [
    {
     "data": {
      "text/plain": [
       "<matplotlib.axes._subplots.AxesSubplot at 0x23b81acabe0>"
      ]
     },
     "execution_count": 16,
     "metadata": {},
     "output_type": "execute_result"
    },
    {
     "data": {
      "image/png": "[encoded data removed]",
      "text/plain": [
       "<Figure size 1080x288 with 1 Axes>"
      ]
     },
     "metadata": {
      "needs_background": "light"
     },
     "output_type": "display_data"
    }
   ],
   "source": [
    "df5[\"Geschäft\"][~df5[\"Geschäft\"].str.contains(\"Spiess\")].resample(\"A\").count()[\"2005\":].plot(figsize=(15,4))"
   ]
  },
  {
   "cell_type": "code",
   "execution_count": null,
   "metadata": {},
   "outputs": [],
   "source": [
    "# Sehr gut... so siehts realistisch aus. \n",
    "# Kontrolle ergibt ebenfall ähnliche Zahlen. Abgesehen von 2011 - von dort gibt es viele Datenmigrations-Files. \n",
    "# Diese werden bei der Page des Kantons nicht aufgeführt. die restlichen Zahlen stimmem ,mit der Grafik überein.\n",
    "# Nun noch die Skala so einstellen, dass sie von 0 ausgeht. Sonst wird es verwirrend. "
   ]
  },
  {
   "cell_type": "code",
   "execution_count": null,
   "metadata": {},
   "outputs": [],
   "source": [
    "# Ich versuche es mal mit en parteien einzeln\n",
    "df_umgekehrt_m=df5.groupby(\"P\").resample(\"M\").count().unstack()\n",
    "df_umgekehrt_q=df5.groupby(\"P\").resample(\"Q\").count().unstack()\n",
    "df_umgekehrt_a=df5.groupby(\"P\").resample(\"A\").count().unstack()\n",
    "df_umge=df_umgekehrt_a[[\"Unnamed: 0\"]] #hier kann ich nun wähen welches DF. also wie resamplet\n",
    "df_swi=df_umge.T #hier mache ich die Zeilen zu Spalten und umgekehrt.\n",
    "df_swit=df_swi.reset_index(level=1)#ich muss irgendwie wieder den Datetime-Index haben\n",
    "df_7=df_swit.set_index(pd.DatetimeIndex(df_swit[\"Einreichedatum\"]))\n",
    "df8=df_7.sort_index()"
   ]
  },
  {
   "cell_type": "code",
   "execution_count": null,
   "metadata": {},
   "outputs": [],
   "source": [
    "df5[df5[\"Geschäft\"].str.contains(\"Klima\")|df5[\"Geschäft\"].str.contains(\"Umwelt\")]"
   ]
  },
  {
   "cell_type": "code",
   "execution_count": null,
   "metadata": {},
   "outputs": [],
   "source": []
  }
 ],
 "metadata": {
  "kernelspec": {
   "display_name": "Python 3",
   "language": "python",
   "name": "python3"
  },
  "language_info": {
   "codemirror_mode": {
    "name": "ipython",
    "version": 3
   },
   "file_extension": ".py",
   "mimetype": "text/x-python",
   "name": "python",
   "nbconvert_exporter": "python",
   "pygments_lexer": "ipython3",
   "version": "3.7.3"
  }
 },
 "nbformat": 4,
 "nbformat_minor": 2
}

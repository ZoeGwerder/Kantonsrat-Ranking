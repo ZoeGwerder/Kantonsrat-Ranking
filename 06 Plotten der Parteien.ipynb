{
 "cells": [
  {
   "cell_type": "markdown",
   "metadata": {},
   "source": [
    "# Plott der Parteien\n",
    "- Alles anhand der Parteien sortieren\n",
    "- Danach alle Mehrfachnennungen rausschmeissen\n",
    "- Danach anschauen und anhand der Daten plotten."
   ]
  },
  {
   "cell_type": "code",
   "execution_count": 1,
   "metadata": {},
   "outputs": [],
   "source": [
    "%matplotlib inline\n",
    "import numpy as np\n",
    "import requests\n",
    "import pandas as pd\n",
    "from bs4 import BeautifulSoup\n",
    "from datetime import datetime\n",
    "\n",
    "import requests, zipfile, io #zum abspeichern von PDFs\n",
    "from tqdm import tqdm # Anzeigen des aktuellen Ladestandes\n",
    "import PyPDF2\n",
    "import re\n",
    "from os import listdir\n",
    "from os.path import isfile, join\n",
    "import locale\n",
    "import matplotlib.pyplot as plt"
   ]
  },
  {
   "cell_type": "code",
   "execution_count": 2,
   "metadata": {},
   "outputs": [],
   "source": [
    "df_tuti=pd.read_csv(\"KRFrames/df_tuti_Ganzes_Frame\")"
   ]
  },
  {
   "cell_type": "code",
   "execution_count": 3,
   "metadata": {},
   "outputs": [
    {
     "data": {
      "text/html": [
       "<div>\n",
       "<style scoped>\n",
       "    .dataframe tbody tr th:only-of-type {\n",
       "        vertical-align: middle;\n",
       "    }\n",
       "\n",
       "    .dataframe tbody tr th {\n",
       "        vertical-align: top;\n",
       "    }\n",
       "\n",
       "    .dataframe thead th {\n",
       "        text-align: right;\n",
       "    }\n",
       "</style>\n",
       "<table border=\"1\" class=\"dataframe\">\n",
       "  <thead>\n",
       "    <tr style=\"text-align: right;\">\n",
       "      <th></th>\n",
       "      <th>Unnamed: 0</th>\n",
       "      <th>VorlageNR</th>\n",
       "      <th>Geschäft</th>\n",
       "      <th>Namenganz</th>\n",
       "      <th>P</th>\n",
       "      <th>Einreichedatum</th>\n",
       "      <th>Stand</th>\n",
       "      <th>Link Vorstoss-PDF</th>\n",
       "      <th>Zuständigkeit</th>\n",
       "      <th>Art des Geschäfts</th>\n",
       "      <th>url</th>\n",
       "    </tr>\n",
       "  </thead>\n",
       "  <tbody>\n",
       "    <tr>\n",
       "      <td>0</td>\n",
       "      <td>0</td>\n",
       "      <td>3031</td>\n",
       "      <td>Interpellation der SVP-Fraktion betreffend Sic...</td>\n",
       "      <td>SVP-Fraktion SVP</td>\n",
       "      <td>SVP</td>\n",
       "      <td>2019-11-26</td>\n",
       "      <td>Einreichung</td>\n",
       "      <td>3031-1-16191_Neutralitaet_Schulen.pdf</td>\n",
       "      <td>Direktion für Bildung und Kultur</td>\n",
       "      <td>Interpellation</td>\n",
       "      <td>/gast/geschaefte/2018</td>\n",
       "    </tr>\n",
       "    <tr>\n",
       "      <td>1</td>\n",
       "      <td>1</td>\n",
       "      <td>3030</td>\n",
       "      <td>Motion der SVP-Fraktion betreffend Stärkung de...</td>\n",
       "      <td>SVP-Fraktion SVP</td>\n",
       "      <td>SVP</td>\n",
       "      <td>2019-11-26</td>\n",
       "      <td>Einreichung</td>\n",
       "      <td>3030-1-16190_Gewaltentrennung.pdf</td>\n",
       "      <td>NaN</td>\n",
       "      <td>Motion</td>\n",
       "      <td>/gast/geschaefte/2017</td>\n",
       "    </tr>\n",
       "    <tr>\n",
       "      <td>2</td>\n",
       "      <td>2</td>\n",
       "      <td>3029</td>\n",
       "      <td>Interpellation der Fraktion Alternative - die ...</td>\n",
       "      <td>Alternative ALG</td>\n",
       "      <td>ALG</td>\n",
       "      <td>2019-11-24</td>\n",
       "      <td>Einreichung</td>\n",
       "      <td>3029-1-16189_Glencore.pdf</td>\n",
       "      <td>Volkswirtschaftsdirektion</td>\n",
       "      <td>Interpellation</td>\n",
       "      <td>/gast/geschaefte/2016</td>\n",
       "    </tr>\n",
       "    <tr>\n",
       "      <td>3</td>\n",
       "      <td>3</td>\n",
       "      <td>3026</td>\n",
       "      <td>Interpellation von Markus Spörri und Thomas Ga...</td>\n",
       "      <td>Thomas Gander FDP</td>\n",
       "      <td>FDP</td>\n",
       "      <td>2019-11-15</td>\n",
       "      <td>Einreichung</td>\n",
       "      <td>3026-1-16186_Airbnb.pdf</td>\n",
       "      <td>Baudirektion</td>\n",
       "      <td>Interpellation</td>\n",
       "      <td>/gast/geschaefte/2013</td>\n",
       "    </tr>\n",
       "    <tr>\n",
       "      <td>4</td>\n",
       "      <td>4</td>\n",
       "      <td>3026</td>\n",
       "      <td>Interpellation von Markus Spörri und Thomas Ga...</td>\n",
       "      <td>Markus Spörri FDP</td>\n",
       "      <td>FDP</td>\n",
       "      <td>2019-11-15</td>\n",
       "      <td>Einreichung</td>\n",
       "      <td>3026-1-16186_Airbnb.pdf</td>\n",
       "      <td>Baudirektion</td>\n",
       "      <td>Interpellation</td>\n",
       "      <td>/gast/geschaefte/2013</td>\n",
       "    </tr>\n",
       "    <tr>\n",
       "      <td>...</td>\n",
       "      <td>...</td>\n",
       "      <td>...</td>\n",
       "      <td>...</td>\n",
       "      <td>...</td>\n",
       "      <td>...</td>\n",
       "      <td>...</td>\n",
       "      <td>...</td>\n",
       "      <td>...</td>\n",
       "      <td>...</td>\n",
       "      <td>...</td>\n",
       "      <td>...</td>\n",
       "    </tr>\n",
       "    <tr>\n",
       "      <td>1798</td>\n",
       "      <td>1798</td>\n",
       "      <td>857</td>\n",
       "      <td>Motion von Heinz Tännler, Karl Betschart und H...</td>\n",
       "      <td>Karl Betschart SVP</td>\n",
       "      <td>SVP</td>\n",
       "      <td>2005-04-26</td>\n",
       "      <td>Datenmigration</td>\n",
       "      <td>pdoc_880_1.pdf</td>\n",
       "      <td>NaN</td>\n",
       "      <td>Motion</td>\n",
       "      <td>/gast/geschaefte/1340</td>\n",
       "    </tr>\n",
       "    <tr>\n",
       "      <td>1799</td>\n",
       "      <td>1799</td>\n",
       "      <td>836</td>\n",
       "      <td>Interpellation von Käty Hofer Buser betreffend...</td>\n",
       "      <td>Käty Hofer Buser SP</td>\n",
       "      <td>SP</td>\n",
       "      <td>2002-12-03</td>\n",
       "      <td>Datenmigration</td>\n",
       "      <td>pdoc_212_1.pdf</td>\n",
       "      <td>NaN</td>\n",
       "      <td>Interpellation</td>\n",
       "      <td>/gast/geschaefte/1339</td>\n",
       "    </tr>\n",
       "    <tr>\n",
       "      <td>1800</td>\n",
       "      <td>1800</td>\n",
       "      <td>810</td>\n",
       "      <td>Motion von Marcel Meyer betreffend Vergabe von...</td>\n",
       "      <td>Marcel Meyer CVP</td>\n",
       "      <td>CVP</td>\n",
       "      <td>2002-08-13</td>\n",
       "      <td>Datenmigration</td>\n",
       "      <td>pdoc_62_1.pdf</td>\n",
       "      <td>NaN</td>\n",
       "      <td>Motion</td>\n",
       "      <td>/gast/geschaefte/1335</td>\n",
       "    </tr>\n",
       "    <tr>\n",
       "      <td>1801</td>\n",
       "      <td>1801</td>\n",
       "      <td>801</td>\n",
       "      <td>Motion von Hans Abicht betreffend Raumkonzept ...</td>\n",
       "      <td>Hans Abicht FDP</td>\n",
       "      <td>FDP</td>\n",
       "      <td>2006-08-22</td>\n",
       "      <td>Datenmigration</td>\n",
       "      <td>pdoc_1440_1.pdf</td>\n",
       "      <td>NaN</td>\n",
       "      <td>Motion</td>\n",
       "      <td>/gast/geschaefte/1333</td>\n",
       "    </tr>\n",
       "    <tr>\n",
       "      <td>1802</td>\n",
       "      <td>1802</td>\n",
       "      <td>304</td>\n",
       "      <td>Motion von Manuela Weichelt betreffend HIV-Prä...</td>\n",
       "      <td>Manuela Weichelt ALG</td>\n",
       "      <td>ALG</td>\n",
       "      <td>2003-05-27</td>\n",
       "      <td>Datenmigration</td>\n",
       "      <td>pdoc_50_1.pdf</td>\n",
       "      <td>NaN</td>\n",
       "      <td>Motion</td>\n",
       "      <td>/gast/geschaefte/1309</td>\n",
       "    </tr>\n",
       "  </tbody>\n",
       "</table>\n",
       "<p>1803 rows × 11 columns</p>\n",
       "</div>"
      ],
      "text/plain": [
       "      Unnamed: 0  VorlageNR  \\\n",
       "0              0       3031   \n",
       "1              1       3030   \n",
       "2              2       3029   \n",
       "3              3       3026   \n",
       "4              4       3026   \n",
       "...          ...        ...   \n",
       "1798        1798        857   \n",
       "1799        1799        836   \n",
       "1800        1800        810   \n",
       "1801        1801        801   \n",
       "1802        1802        304   \n",
       "\n",
       "                                               Geschäft             Namenganz  \\\n",
       "0     Interpellation der SVP-Fraktion betreffend Sic...      SVP-Fraktion SVP   \n",
       "1     Motion der SVP-Fraktion betreffend Stärkung de...      SVP-Fraktion SVP   \n",
       "2     Interpellation der Fraktion Alternative - die ...       Alternative ALG   \n",
       "3     Interpellation von Markus Spörri und Thomas Ga...     Thomas Gander FDP   \n",
       "4     Interpellation von Markus Spörri und Thomas Ga...     Markus Spörri FDP   \n",
       "...                                                 ...                   ...   \n",
       "1798  Motion von Heinz Tännler, Karl Betschart und H...    Karl Betschart SVP   \n",
       "1799  Interpellation von Käty Hofer Buser betreffend...   Käty Hofer Buser SP   \n",
       "1800  Motion von Marcel Meyer betreffend Vergabe von...      Marcel Meyer CVP   \n",
       "1801  Motion von Hans Abicht betreffend Raumkonzept ...       Hans Abicht FDP   \n",
       "1802  Motion von Manuela Weichelt betreffend HIV-Prä...  Manuela Weichelt ALG   \n",
       "\n",
       "        P Einreichedatum           Stand  \\\n",
       "0     SVP     2019-11-26     Einreichung   \n",
       "1     SVP     2019-11-26     Einreichung   \n",
       "2     ALG     2019-11-24     Einreichung   \n",
       "3     FDP     2019-11-15     Einreichung   \n",
       "4     FDP     2019-11-15     Einreichung   \n",
       "...   ...            ...             ...   \n",
       "1798  SVP     2005-04-26  Datenmigration   \n",
       "1799   SP     2002-12-03  Datenmigration   \n",
       "1800  CVP     2002-08-13  Datenmigration   \n",
       "1801  FDP     2006-08-22  Datenmigration   \n",
       "1802  ALG     2003-05-27  Datenmigration   \n",
       "\n",
       "                          Link Vorstoss-PDF                     Zuständigkeit  \\\n",
       "0     3031-1-16191_Neutralitaet_Schulen.pdf  Direktion für Bildung und Kultur   \n",
       "1         3030-1-16190_Gewaltentrennung.pdf                               NaN   \n",
       "2                 3029-1-16189_Glencore.pdf         Volkswirtschaftsdirektion   \n",
       "3                   3026-1-16186_Airbnb.pdf                      Baudirektion   \n",
       "4                   3026-1-16186_Airbnb.pdf                      Baudirektion   \n",
       "...                                     ...                               ...   \n",
       "1798                         pdoc_880_1.pdf                               NaN   \n",
       "1799                         pdoc_212_1.pdf                               NaN   \n",
       "1800                          pdoc_62_1.pdf                               NaN   \n",
       "1801                        pdoc_1440_1.pdf                               NaN   \n",
       "1802                          pdoc_50_1.pdf                               NaN   \n",
       "\n",
       "     Art des Geschäfts                    url  \n",
       "0       Interpellation  /gast/geschaefte/2018  \n",
       "1               Motion  /gast/geschaefte/2017  \n",
       "2       Interpellation  /gast/geschaefte/2016  \n",
       "3       Interpellation  /gast/geschaefte/2013  \n",
       "4       Interpellation  /gast/geschaefte/2013  \n",
       "...                ...                    ...  \n",
       "1798            Motion  /gast/geschaefte/1340  \n",
       "1799    Interpellation  /gast/geschaefte/1339  \n",
       "1800            Motion  /gast/geschaefte/1335  \n",
       "1801            Motion  /gast/geschaefte/1333  \n",
       "1802            Motion  /gast/geschaefte/1309  \n",
       "\n",
       "[1803 rows x 11 columns]"
      ]
     },
     "execution_count": 3,
     "metadata": {},
     "output_type": "execute_result"
    }
   ],
   "source": [
    "df_tuti"
   ]
  },
  {
   "cell_type": "code",
   "execution_count": 4,
   "metadata": {},
   "outputs": [
    {
     "data": {
      "text/plain": [
       "(44, 11)"
      ]
     },
     "execution_count": 4,
     "metadata": {},
     "output_type": "execute_result"
    }
   ],
   "source": [
    "df_tuti[df_tuti[\"Geschäft\"].str.contains(\"FDP\")].shape"
   ]
  },
  {
   "cell_type": "code",
   "execution_count": 5,
   "metadata": {},
   "outputs": [
    {
     "data": {
      "text/html": [
       "<div>\n",
       "<style scoped>\n",
       "    .dataframe tbody tr th:only-of-type {\n",
       "        vertical-align: middle;\n",
       "    }\n",
       "\n",
       "    .dataframe tbody tr th {\n",
       "        vertical-align: top;\n",
       "    }\n",
       "\n",
       "    .dataframe thead th {\n",
       "        text-align: right;\n",
       "    }\n",
       "</style>\n",
       "<table border=\"1\" class=\"dataframe\">\n",
       "  <thead>\n",
       "    <tr style=\"text-align: right;\">\n",
       "      <th></th>\n",
       "      <th>Unnamed: 0</th>\n",
       "      <th>VorlageNR</th>\n",
       "      <th>Geschäft</th>\n",
       "      <th>Namenganz</th>\n",
       "      <th>P</th>\n",
       "      <th>Einreichedatum</th>\n",
       "      <th>Stand</th>\n",
       "      <th>Link Vorstoss-PDF</th>\n",
       "      <th>Zuständigkeit</th>\n",
       "      <th>Art des Geschäfts</th>\n",
       "      <th>url</th>\n",
       "    </tr>\n",
       "  </thead>\n",
       "  <tbody>\n",
       "    <tr>\n",
       "      <td>0</td>\n",
       "      <td>0</td>\n",
       "      <td>3031</td>\n",
       "      <td>Interpellation der SVP-Fraktion betreffend Sic...</td>\n",
       "      <td>SVP-Fraktion SVP</td>\n",
       "      <td>SVP</td>\n",
       "      <td>2019-11-26</td>\n",
       "      <td>Einreichung</td>\n",
       "      <td>3031-1-16191_Neutralitaet_Schulen.pdf</td>\n",
       "      <td>Direktion für Bildung und Kultur</td>\n",
       "      <td>Interpellation</td>\n",
       "      <td>/gast/geschaefte/2018</td>\n",
       "    </tr>\n",
       "    <tr>\n",
       "      <td>1</td>\n",
       "      <td>1</td>\n",
       "      <td>3030</td>\n",
       "      <td>Motion der SVP-Fraktion betreffend Stärkung de...</td>\n",
       "      <td>SVP-Fraktion SVP</td>\n",
       "      <td>SVP</td>\n",
       "      <td>2019-11-26</td>\n",
       "      <td>Einreichung</td>\n",
       "      <td>3030-1-16190_Gewaltentrennung.pdf</td>\n",
       "      <td>NaN</td>\n",
       "      <td>Motion</td>\n",
       "      <td>/gast/geschaefte/2017</td>\n",
       "    </tr>\n",
       "    <tr>\n",
       "      <td>2</td>\n",
       "      <td>2</td>\n",
       "      <td>3029</td>\n",
       "      <td>Interpellation der Fraktion Alternative - die ...</td>\n",
       "      <td>Alternative ALG</td>\n",
       "      <td>ALG</td>\n",
       "      <td>2019-11-24</td>\n",
       "      <td>Einreichung</td>\n",
       "      <td>3029-1-16189_Glencore.pdf</td>\n",
       "      <td>Volkswirtschaftsdirektion</td>\n",
       "      <td>Interpellation</td>\n",
       "      <td>/gast/geschaefte/2016</td>\n",
       "    </tr>\n",
       "    <tr>\n",
       "      <td>3</td>\n",
       "      <td>3</td>\n",
       "      <td>3026</td>\n",
       "      <td>Interpellation von Markus Spörri und Thomas Ga...</td>\n",
       "      <td>Thomas Gander FDP</td>\n",
       "      <td>FDP</td>\n",
       "      <td>2019-11-15</td>\n",
       "      <td>Einreichung</td>\n",
       "      <td>3026-1-16186_Airbnb.pdf</td>\n",
       "      <td>Baudirektion</td>\n",
       "      <td>Interpellation</td>\n",
       "      <td>/gast/geschaefte/2013</td>\n",
       "    </tr>\n",
       "    <tr>\n",
       "      <td>4</td>\n",
       "      <td>4</td>\n",
       "      <td>3026</td>\n",
       "      <td>Interpellation von Markus Spörri und Thomas Ga...</td>\n",
       "      <td>Markus Spörri FDP</td>\n",
       "      <td>FDP</td>\n",
       "      <td>2019-11-15</td>\n",
       "      <td>Einreichung</td>\n",
       "      <td>3026-1-16186_Airbnb.pdf</td>\n",
       "      <td>Baudirektion</td>\n",
       "      <td>Interpellation</td>\n",
       "      <td>/gast/geschaefte/2013</td>\n",
       "    </tr>\n",
       "    <tr>\n",
       "      <td>...</td>\n",
       "      <td>...</td>\n",
       "      <td>...</td>\n",
       "      <td>...</td>\n",
       "      <td>...</td>\n",
       "      <td>...</td>\n",
       "      <td>...</td>\n",
       "      <td>...</td>\n",
       "      <td>...</td>\n",
       "      <td>...</td>\n",
       "      <td>...</td>\n",
       "      <td>...</td>\n",
       "    </tr>\n",
       "    <tr>\n",
       "      <td>1798</td>\n",
       "      <td>1798</td>\n",
       "      <td>857</td>\n",
       "      <td>Motion von Heinz Tännler, Karl Betschart und H...</td>\n",
       "      <td>Karl Betschart SVP</td>\n",
       "      <td>SVP</td>\n",
       "      <td>2005-04-26</td>\n",
       "      <td>Datenmigration</td>\n",
       "      <td>pdoc_880_1.pdf</td>\n",
       "      <td>NaN</td>\n",
       "      <td>Motion</td>\n",
       "      <td>/gast/geschaefte/1340</td>\n",
       "    </tr>\n",
       "    <tr>\n",
       "      <td>1799</td>\n",
       "      <td>1799</td>\n",
       "      <td>836</td>\n",
       "      <td>Interpellation von Käty Hofer Buser betreffend...</td>\n",
       "      <td>Käty Hofer Buser SP</td>\n",
       "      <td>SP</td>\n",
       "      <td>2002-12-03</td>\n",
       "      <td>Datenmigration</td>\n",
       "      <td>pdoc_212_1.pdf</td>\n",
       "      <td>NaN</td>\n",
       "      <td>Interpellation</td>\n",
       "      <td>/gast/geschaefte/1339</td>\n",
       "    </tr>\n",
       "    <tr>\n",
       "      <td>1800</td>\n",
       "      <td>1800</td>\n",
       "      <td>810</td>\n",
       "      <td>Motion von Marcel Meyer betreffend Vergabe von...</td>\n",
       "      <td>Marcel Meyer CVP</td>\n",
       "      <td>CVP</td>\n",
       "      <td>2002-08-13</td>\n",
       "      <td>Datenmigration</td>\n",
       "      <td>pdoc_62_1.pdf</td>\n",
       "      <td>NaN</td>\n",
       "      <td>Motion</td>\n",
       "      <td>/gast/geschaefte/1335</td>\n",
       "    </tr>\n",
       "    <tr>\n",
       "      <td>1801</td>\n",
       "      <td>1801</td>\n",
       "      <td>801</td>\n",
       "      <td>Motion von Hans Abicht betreffend Raumkonzept ...</td>\n",
       "      <td>Hans Abicht FDP</td>\n",
       "      <td>FDP</td>\n",
       "      <td>2006-08-22</td>\n",
       "      <td>Datenmigration</td>\n",
       "      <td>pdoc_1440_1.pdf</td>\n",
       "      <td>NaN</td>\n",
       "      <td>Motion</td>\n",
       "      <td>/gast/geschaefte/1333</td>\n",
       "    </tr>\n",
       "    <tr>\n",
       "      <td>1802</td>\n",
       "      <td>1802</td>\n",
       "      <td>304</td>\n",
       "      <td>Motion von Manuela Weichelt betreffend HIV-Prä...</td>\n",
       "      <td>Manuela Weichelt ALG</td>\n",
       "      <td>ALG</td>\n",
       "      <td>2003-05-27</td>\n",
       "      <td>Datenmigration</td>\n",
       "      <td>pdoc_50_1.pdf</td>\n",
       "      <td>NaN</td>\n",
       "      <td>Motion</td>\n",
       "      <td>/gast/geschaefte/1309</td>\n",
       "    </tr>\n",
       "  </tbody>\n",
       "</table>\n",
       "<p>1803 rows × 11 columns</p>\n",
       "</div>"
      ],
      "text/plain": [
       "      Unnamed: 0  VorlageNR  \\\n",
       "0              0       3031   \n",
       "1              1       3030   \n",
       "2              2       3029   \n",
       "3              3       3026   \n",
       "4              4       3026   \n",
       "...          ...        ...   \n",
       "1798        1798        857   \n",
       "1799        1799        836   \n",
       "1800        1800        810   \n",
       "1801        1801        801   \n",
       "1802        1802        304   \n",
       "\n",
       "                                               Geschäft             Namenganz  \\\n",
       "0     Interpellation der SVP-Fraktion betreffend Sic...      SVP-Fraktion SVP   \n",
       "1     Motion der SVP-Fraktion betreffend Stärkung de...      SVP-Fraktion SVP   \n",
       "2     Interpellation der Fraktion Alternative - die ...       Alternative ALG   \n",
       "3     Interpellation von Markus Spörri und Thomas Ga...     Thomas Gander FDP   \n",
       "4     Interpellation von Markus Spörri und Thomas Ga...     Markus Spörri FDP   \n",
       "...                                                 ...                   ...   \n",
       "1798  Motion von Heinz Tännler, Karl Betschart und H...    Karl Betschart SVP   \n",
       "1799  Interpellation von Käty Hofer Buser betreffend...   Käty Hofer Buser SP   \n",
       "1800  Motion von Marcel Meyer betreffend Vergabe von...      Marcel Meyer CVP   \n",
       "1801  Motion von Hans Abicht betreffend Raumkonzept ...       Hans Abicht FDP   \n",
       "1802  Motion von Manuela Weichelt betreffend HIV-Prä...  Manuela Weichelt ALG   \n",
       "\n",
       "        P Einreichedatum           Stand  \\\n",
       "0     SVP     2019-11-26     Einreichung   \n",
       "1     SVP     2019-11-26     Einreichung   \n",
       "2     ALG     2019-11-24     Einreichung   \n",
       "3     FDP     2019-11-15     Einreichung   \n",
       "4     FDP     2019-11-15     Einreichung   \n",
       "...   ...            ...             ...   \n",
       "1798  SVP     2005-04-26  Datenmigration   \n",
       "1799   SP     2002-12-03  Datenmigration   \n",
       "1800  CVP     2002-08-13  Datenmigration   \n",
       "1801  FDP     2006-08-22  Datenmigration   \n",
       "1802  ALG     2003-05-27  Datenmigration   \n",
       "\n",
       "                          Link Vorstoss-PDF                     Zuständigkeit  \\\n",
       "0     3031-1-16191_Neutralitaet_Schulen.pdf  Direktion für Bildung und Kultur   \n",
       "1         3030-1-16190_Gewaltentrennung.pdf                               NaN   \n",
       "2                 3029-1-16189_Glencore.pdf         Volkswirtschaftsdirektion   \n",
       "3                   3026-1-16186_Airbnb.pdf                      Baudirektion   \n",
       "4                   3026-1-16186_Airbnb.pdf                      Baudirektion   \n",
       "...                                     ...                               ...   \n",
       "1798                         pdoc_880_1.pdf                               NaN   \n",
       "1799                         pdoc_212_1.pdf                               NaN   \n",
       "1800                          pdoc_62_1.pdf                               NaN   \n",
       "1801                        pdoc_1440_1.pdf                               NaN   \n",
       "1802                          pdoc_50_1.pdf                               NaN   \n",
       "\n",
       "     Art des Geschäfts                    url  \n",
       "0       Interpellation  /gast/geschaefte/2018  \n",
       "1               Motion  /gast/geschaefte/2017  \n",
       "2       Interpellation  /gast/geschaefte/2016  \n",
       "3       Interpellation  /gast/geschaefte/2013  \n",
       "4       Interpellation  /gast/geschaefte/2013  \n",
       "...                ...                    ...  \n",
       "1798            Motion  /gast/geschaefte/1340  \n",
       "1799    Interpellation  /gast/geschaefte/1339  \n",
       "1800            Motion  /gast/geschaefte/1335  \n",
       "1801            Motion  /gast/geschaefte/1333  \n",
       "1802            Motion  /gast/geschaefte/1309  \n",
       "\n",
       "[1803 rows x 11 columns]"
      ]
     },
     "execution_count": 5,
     "metadata": {},
     "output_type": "execute_result"
    }
   ],
   "source": [
    "df_tuti"
   ]
  },
  {
   "cell_type": "code",
   "execution_count": 6,
   "metadata": {},
   "outputs": [
    {
     "data": {
      "text/html": [
       "<div>\n",
       "<style scoped>\n",
       "    .dataframe tbody tr th:only-of-type {\n",
       "        vertical-align: middle;\n",
       "    }\n",
       "\n",
       "    .dataframe tbody tr th {\n",
       "        vertical-align: top;\n",
       "    }\n",
       "\n",
       "    .dataframe thead th {\n",
       "        text-align: right;\n",
       "    }\n",
       "</style>\n",
       "<table border=\"1\" class=\"dataframe\">\n",
       "  <thead>\n",
       "    <tr style=\"text-align: right;\">\n",
       "      <th></th>\n",
       "      <th>Unnamed: 0</th>\n",
       "      <th>VorlageNR</th>\n",
       "      <th>Geschäft</th>\n",
       "      <th>Namenganz</th>\n",
       "      <th>P</th>\n",
       "      <th>Einreichedatum</th>\n",
       "      <th>Stand</th>\n",
       "      <th>Link Vorstoss-PDF</th>\n",
       "      <th>Zuständigkeit</th>\n",
       "      <th>Art des Geschäfts</th>\n",
       "      <th>url</th>\n",
       "    </tr>\n",
       "  </thead>\n",
       "  <tbody>\n",
       "    <tr>\n",
       "      <td>1802</td>\n",
       "      <td>1802</td>\n",
       "      <td>304</td>\n",
       "      <td>Motion von Manuela Weichelt betreffend HIV-Prä...</td>\n",
       "      <td>Manuela Weichelt ALG</td>\n",
       "      <td>ALG</td>\n",
       "      <td>2003-05-27</td>\n",
       "      <td>Datenmigration</td>\n",
       "      <td>pdoc_50_1.pdf</td>\n",
       "      <td>NaN</td>\n",
       "      <td>Motion</td>\n",
       "      <td>/gast/geschaefte/1309</td>\n",
       "    </tr>\n",
       "    <tr>\n",
       "      <td>1114</td>\n",
       "      <td>1114</td>\n",
       "      <td>1865</td>\n",
       "      <td>Postulat der Alternativen Grünen Fraktion und ...</td>\n",
       "      <td>Alternative ALG</td>\n",
       "      <td>ALG</td>\n",
       "      <td>2009-10-13</td>\n",
       "      <td>Datenmigration</td>\n",
       "      <td>13223_1865_1_Haushaltger%C3%A4te.pdf</td>\n",
       "      <td>NaN</td>\n",
       "      <td>Postulat</td>\n",
       "      <td>/gast/geschaefte/129</td>\n",
       "    </tr>\n",
       "    <tr>\n",
       "      <td>295</td>\n",
       "      <td>295</td>\n",
       "      <td>2797</td>\n",
       "      <td>Interpellation der Fraktion Alternative - die ...</td>\n",
       "      <td>Alternative ALG</td>\n",
       "      <td>ALG</td>\n",
       "      <td>2017-11-01</td>\n",
       "      <td>Kenntnisnahme</td>\n",
       "      <td>2797-1-15596_Theilerhaus.pdf</td>\n",
       "      <td>Baudirektion</td>\n",
       "      <td>Interpellation</td>\n",
       "      <td>/gast/geschaefte/1787</td>\n",
       "    </tr>\n",
       "    <tr>\n",
       "      <td>293</td>\n",
       "      <td>293</td>\n",
       "      <td>2800</td>\n",
       "      <td>Interpellation der Fraktion Alternative - die ...</td>\n",
       "      <td>Alternative ALG</td>\n",
       "      <td>ALG</td>\n",
       "      <td>2017-11-06</td>\n",
       "      <td>Kenntnisnahme</td>\n",
       "      <td>2800-1-15599_Paradise-Papers.pdf</td>\n",
       "      <td>Volkswirtschaftsdirektion</td>\n",
       "      <td>Interpellation</td>\n",
       "      <td>/gast/geschaefte/1790</td>\n",
       "    </tr>\n",
       "    <tr>\n",
       "      <td>688</td>\n",
       "      <td>688</td>\n",
       "      <td>2382</td>\n",
       "      <td>Interpellation der Alternativen Grünen Fraktio...</td>\n",
       "      <td>Alternative ALG</td>\n",
       "      <td>ALG</td>\n",
       "      <td>2014-04-14</td>\n",
       "      <td>Kenntnisnahme</td>\n",
       "      <td>14663_2382_1_Klimaschutz.pdf</td>\n",
       "      <td>Baudirektion</td>\n",
       "      <td>Interpellation</td>\n",
       "      <td>/gast/geschaefte/1370</td>\n",
       "    </tr>\n",
       "    <tr>\n",
       "      <td>...</td>\n",
       "      <td>...</td>\n",
       "      <td>...</td>\n",
       "      <td>...</td>\n",
       "      <td>...</td>\n",
       "      <td>...</td>\n",
       "      <td>...</td>\n",
       "      <td>...</td>\n",
       "      <td>...</td>\n",
       "      <td>...</td>\n",
       "      <td>...</td>\n",
       "      <td>...</td>\n",
       "    </tr>\n",
       "    <tr>\n",
       "      <td>247</td>\n",
       "      <td>247</td>\n",
       "      <td>2835</td>\n",
       "      <td>Interpellation von Willi Vollenweider betreffe...</td>\n",
       "      <td>Willi Vollenweider pl</td>\n",
       "      <td>pl</td>\n",
       "      <td>2018-02-14</td>\n",
       "      <td>Kenntnisnahme</td>\n",
       "      <td>2835-1-15687_Gueterbahnhof.pdf</td>\n",
       "      <td>Baudirektion</td>\n",
       "      <td>Interpellation</td>\n",
       "      <td>/gast/geschaefte/1825</td>\n",
       "    </tr>\n",
       "    <tr>\n",
       "      <td>219</td>\n",
       "      <td>219</td>\n",
       "      <td>2861</td>\n",
       "      <td>Interpellation von Susanne Giger, Jürg Messmer...</td>\n",
       "      <td>Susanne Giger pl</td>\n",
       "      <td>pl</td>\n",
       "      <td>2018-04-16</td>\n",
       "      <td>Kenntnisnahme</td>\n",
       "      <td>2861-1-15762_Fertigstellung-FMS.pdf</td>\n",
       "      <td>Baudirektion</td>\n",
       "      <td>Interpellation</td>\n",
       "      <td>/gast/geschaefte/1851</td>\n",
       "    </tr>\n",
       "    <tr>\n",
       "      <td>218</td>\n",
       "      <td>218</td>\n",
       "      <td>2861</td>\n",
       "      <td>Interpellation von Susanne Giger, Jürg Messmer...</td>\n",
       "      <td>Willi Vollenweider pl</td>\n",
       "      <td>pl</td>\n",
       "      <td>2018-04-16</td>\n",
       "      <td>Kenntnisnahme</td>\n",
       "      <td>2861-1-15762_Fertigstellung-FMS.pdf</td>\n",
       "      <td>Baudirektion</td>\n",
       "      <td>Interpellation</td>\n",
       "      <td>/gast/geschaefte/1851</td>\n",
       "    </tr>\n",
       "    <tr>\n",
       "      <td>166</td>\n",
       "      <td>166</td>\n",
       "      <td>2916</td>\n",
       "      <td>Postulat von Willi Vollenweider betreffend Prü...</td>\n",
       "      <td>Willi Vollenweider pl</td>\n",
       "      <td>pl</td>\n",
       "      <td>2018-11-25</td>\n",
       "      <td>Nicht-Erheblicherklärung</td>\n",
       "      <td>2916-1-15932_Home-Guard.pdf</td>\n",
       "      <td>Sicherheitsdirektion</td>\n",
       "      <td>Postulat</td>\n",
       "      <td>/gast/geschaefte/1904</td>\n",
       "    </tr>\n",
       "    <tr>\n",
       "      <td>221</td>\n",
       "      <td>221</td>\n",
       "      <td>2858</td>\n",
       "      <td>Interpellation von Willi Vollenweider betreffe...</td>\n",
       "      <td>Willi Vollenweider pl</td>\n",
       "      <td>pl</td>\n",
       "      <td>2018-04-12</td>\n",
       "      <td>Kenntnisnahme</td>\n",
       "      <td>2858-1-15760_Schutz.pdf</td>\n",
       "      <td>Sicherheitsdirektion</td>\n",
       "      <td>Interpellation</td>\n",
       "      <td>/gast/geschaefte/1848</td>\n",
       "    </tr>\n",
       "  </tbody>\n",
       "</table>\n",
       "<p>1803 rows × 11 columns</p>\n",
       "</div>"
      ],
      "text/plain": [
       "      Unnamed: 0  VorlageNR  \\\n",
       "1802        1802        304   \n",
       "1114        1114       1865   \n",
       "295          295       2797   \n",
       "293          293       2800   \n",
       "688          688       2382   \n",
       "...          ...        ...   \n",
       "247          247       2835   \n",
       "219          219       2861   \n",
       "218          218       2861   \n",
       "166          166       2916   \n",
       "221          221       2858   \n",
       "\n",
       "                                               Geschäft  \\\n",
       "1802  Motion von Manuela Weichelt betreffend HIV-Prä...   \n",
       "1114  Postulat der Alternativen Grünen Fraktion und ...   \n",
       "295   Interpellation der Fraktion Alternative - die ...   \n",
       "293   Interpellation der Fraktion Alternative - die ...   \n",
       "688   Interpellation der Alternativen Grünen Fraktio...   \n",
       "...                                                 ...   \n",
       "247   Interpellation von Willi Vollenweider betreffe...   \n",
       "219   Interpellation von Susanne Giger, Jürg Messmer...   \n",
       "218   Interpellation von Susanne Giger, Jürg Messmer...   \n",
       "166   Postulat von Willi Vollenweider betreffend Prü...   \n",
       "221   Interpellation von Willi Vollenweider betreffe...   \n",
       "\n",
       "                  Namenganz    P Einreichedatum                     Stand  \\\n",
       "1802   Manuela Weichelt ALG  ALG     2003-05-27            Datenmigration   \n",
       "1114        Alternative ALG  ALG     2009-10-13            Datenmigration   \n",
       "295         Alternative ALG  ALG     2017-11-01             Kenntnisnahme   \n",
       "293         Alternative ALG  ALG     2017-11-06             Kenntnisnahme   \n",
       "688         Alternative ALG  ALG     2014-04-14             Kenntnisnahme   \n",
       "...                     ...  ...            ...                       ...   \n",
       "247   Willi Vollenweider pl   pl     2018-02-14             Kenntnisnahme   \n",
       "219        Susanne Giger pl   pl     2018-04-16             Kenntnisnahme   \n",
       "218   Willi Vollenweider pl   pl     2018-04-16             Kenntnisnahme   \n",
       "166   Willi Vollenweider pl   pl     2018-11-25  Nicht-Erheblicherklärung   \n",
       "221   Willi Vollenweider pl   pl     2018-04-12             Kenntnisnahme   \n",
       "\n",
       "                         Link Vorstoss-PDF              Zuständigkeit  \\\n",
       "1802                         pdoc_50_1.pdf                        NaN   \n",
       "1114  13223_1865_1_Haushaltger%C3%A4te.pdf                        NaN   \n",
       "295           2797-1-15596_Theilerhaus.pdf               Baudirektion   \n",
       "293       2800-1-15599_Paradise-Papers.pdf  Volkswirtschaftsdirektion   \n",
       "688           14663_2382_1_Klimaschutz.pdf               Baudirektion   \n",
       "...                                    ...                        ...   \n",
       "247         2835-1-15687_Gueterbahnhof.pdf               Baudirektion   \n",
       "219    2861-1-15762_Fertigstellung-FMS.pdf               Baudirektion   \n",
       "218    2861-1-15762_Fertigstellung-FMS.pdf               Baudirektion   \n",
       "166            2916-1-15932_Home-Guard.pdf       Sicherheitsdirektion   \n",
       "221                2858-1-15760_Schutz.pdf       Sicherheitsdirektion   \n",
       "\n",
       "     Art des Geschäfts                    url  \n",
       "1802            Motion  /gast/geschaefte/1309  \n",
       "1114          Postulat   /gast/geschaefte/129  \n",
       "295     Interpellation  /gast/geschaefte/1787  \n",
       "293     Interpellation  /gast/geschaefte/1790  \n",
       "688     Interpellation  /gast/geschaefte/1370  \n",
       "...                ...                    ...  \n",
       "247     Interpellation  /gast/geschaefte/1825  \n",
       "219     Interpellation  /gast/geschaefte/1851  \n",
       "218     Interpellation  /gast/geschaefte/1851  \n",
       "166           Postulat  /gast/geschaefte/1904  \n",
       "221     Interpellation  /gast/geschaefte/1848  \n",
       "\n",
       "[1803 rows x 11 columns]"
      ]
     },
     "execution_count": 6,
     "metadata": {},
     "output_type": "execute_result"
    }
   ],
   "source": [
    "# Nun sortieren nach Parteien\n",
    "df1=df_tuti.sort_values(\"P\")\n",
    "df1"
   ]
  },
  {
   "cell_type": "code",
   "execution_count": 7,
   "metadata": {
    "scrolled": true
   },
   "outputs": [],
   "source": [
    "#Voila, denke das stimmt - es sind rund 800 Vorlagen weniger. Also mehr als ein Drittel weniger.\n",
    "df2=df1.drop_duplicates(subset=['VorlageNR', 'P'], keep=False)"
   ]
  },
  {
   "cell_type": "code",
   "execution_count": 8,
   "metadata": {},
   "outputs": [
    {
     "data": {
      "text/html": [
       "<div>\n",
       "<style scoped>\n",
       "    .dataframe tbody tr th:only-of-type {\n",
       "        vertical-align: middle;\n",
       "    }\n",
       "\n",
       "    .dataframe tbody tr th {\n",
       "        vertical-align: top;\n",
       "    }\n",
       "\n",
       "    .dataframe thead th {\n",
       "        text-align: right;\n",
       "    }\n",
       "</style>\n",
       "<table border=\"1\" class=\"dataframe\">\n",
       "  <thead>\n",
       "    <tr style=\"text-align: right;\">\n",
       "      <th></th>\n",
       "      <th>Unnamed: 0</th>\n",
       "      <th>VorlageNR</th>\n",
       "      <th>Geschäft</th>\n",
       "      <th>Namenganz</th>\n",
       "      <th>P</th>\n",
       "      <th>Einreichedatum</th>\n",
       "      <th>Stand</th>\n",
       "      <th>Link Vorstoss-PDF</th>\n",
       "      <th>Zuständigkeit</th>\n",
       "      <th>Art des Geschäfts</th>\n",
       "      <th>url</th>\n",
       "    </tr>\n",
       "  </thead>\n",
       "  <tbody>\n",
       "    <tr>\n",
       "      <td>307</td>\n",
       "      <td>307</td>\n",
       "      <td>2781</td>\n",
       "      <td>Motion von Thomas Werner betreffend Anpassung ...</td>\n",
       "      <td>Thomas Werner SVP</td>\n",
       "      <td>SVP</td>\n",
       "      <td>2017-09-11</td>\n",
       "      <td>Nicht-Erheblicherklärung</td>\n",
       "      <td>1771</td>\n",
       "      <td>Baudirektion</td>\n",
       "      <td>Motion</td>\n",
       "      <td>/gast/geschaefte/1771</td>\n",
       "    </tr>\n",
       "    <tr>\n",
       "      <td>1541</td>\n",
       "      <td>1541</td>\n",
       "      <td>1354</td>\n",
       "      <td>Postulat von Manuel Aeschbacher betreffend Pub...</td>\n",
       "      <td>Manuel Aeschbacher SVP</td>\n",
       "      <td>SVP</td>\n",
       "      <td>2005-06-15</td>\n",
       "      <td>Datenmigration</td>\n",
       "      <td>pdoc_944_1.pdf</td>\n",
       "      <td>NaN</td>\n",
       "      <td>Postulat</td>\n",
       "      <td>/gast/geschaefte/945</td>\n",
       "    </tr>\n",
       "    <tr>\n",
       "      <td>309</td>\n",
       "      <td>309</td>\n",
       "      <td>2777</td>\n",
       "      <td>Postulat von Jean-Luc Mösch, Rainer Suter und ...</td>\n",
       "      <td>Rainer Suter SVP</td>\n",
       "      <td>SVP</td>\n",
       "      <td>2017-09-03</td>\n",
       "      <td>Erledigterklärung</td>\n",
       "      <td>2777-1-15555_Bahnanbindung-ZUGWEST.pdf</td>\n",
       "      <td>Volkswirtschaftsdirektion</td>\n",
       "      <td>Postulat</td>\n",
       "      <td>/gast/geschaefte/1767</td>\n",
       "    </tr>\n",
       "    <tr>\n",
       "      <td>1539</td>\n",
       "      <td>1539</td>\n",
       "      <td>1356</td>\n",
       "      <td>Motion der SVP-Fraktion betreffend Änderung de...</td>\n",
       "      <td>SVP-Fraktion SVP</td>\n",
       "      <td>SVP</td>\n",
       "      <td>2005-06-30</td>\n",
       "      <td>Datenmigration</td>\n",
       "      <td>pdoc_962_1.pdf</td>\n",
       "      <td>NaN</td>\n",
       "      <td>Motion</td>\n",
       "      <td>/gast/geschaefte/947</td>\n",
       "    </tr>\n",
       "    <tr>\n",
       "      <td>312</td>\n",
       "      <td>312</td>\n",
       "      <td>2774</td>\n",
       "      <td>Interpellation der SVP-Fraktion betreffend Ung...</td>\n",
       "      <td>SVP-Fraktion SVP</td>\n",
       "      <td>SVP</td>\n",
       "      <td>2017-08-15</td>\n",
       "      <td>Kenntnisnahme</td>\n",
       "      <td>1764</td>\n",
       "      <td>Sicherheitsdirektion</td>\n",
       "      <td>Interpellation</td>\n",
       "      <td>/gast/geschaefte/1764</td>\n",
       "    </tr>\n",
       "    <tr>\n",
       "      <td>313</td>\n",
       "      <td>313</td>\n",
       "      <td>2773</td>\n",
       "      <td>Kleine Anfrage der SVP-Fraktion betreffend Wer...</td>\n",
       "      <td>SVP-Fraktion SVP</td>\n",
       "      <td>SVP</td>\n",
       "      <td>2017-08-15</td>\n",
       "      <td>Antwort des Regierungsrats</td>\n",
       "      <td>1763</td>\n",
       "      <td>Sicherheitsdirektion</td>\n",
       "      <td>Kleine Anfrage</td>\n",
       "      <td>/gast/geschaefte/1763</td>\n",
       "    </tr>\n",
       "    <tr>\n",
       "      <td>1534</td>\n",
       "      <td>1534</td>\n",
       "      <td>1362</td>\n",
       "      <td>Interpellation von Monika Barmet, Karl Künzle,...</td>\n",
       "      <td>Karl Nussbaumer SVP</td>\n",
       "      <td>SVP</td>\n",
       "      <td>2005-08-04</td>\n",
       "      <td>Datenmigration</td>\n",
       "      <td>pdoc_972_1.pdf</td>\n",
       "      <td>NaN</td>\n",
       "      <td>Interpellation</td>\n",
       "      <td>/gast/geschaefte/953</td>\n",
       "    </tr>\n",
       "    <tr>\n",
       "      <td>844</td>\n",
       "      <td>844</td>\n",
       "      <td>2162</td>\n",
       "      <td>Interpellation der SVP-Fraktion betreffend Kra...</td>\n",
       "      <td>SVP-Fraktion SVP</td>\n",
       "      <td>SVP</td>\n",
       "      <td>2012-06-15</td>\n",
       "      <td>Datenmigration</td>\n",
       "      <td>14107_2162_1_Sans-Papiers.pdf</td>\n",
       "      <td>NaN</td>\n",
       "      <td>Interpellation</td>\n",
       "      <td>/gast/geschaefte/414</td>\n",
       "    </tr>\n",
       "    <tr>\n",
       "      <td>979</td>\n",
       "      <td>979</td>\n",
       "      <td>2030</td>\n",
       "      <td>Interpellation von Thomas Aeschi betreffend Il...</td>\n",
       "      <td>Thomas Aeschi SVP</td>\n",
       "      <td>SVP</td>\n",
       "      <td>2011-03-21</td>\n",
       "      <td>Datenmigration</td>\n",
       "      <td>13714_2030_1_Illegale_neu.pdf</td>\n",
       "      <td>NaN</td>\n",
       "      <td>Interpellation</td>\n",
       "      <td>/gast/geschaefte/285</td>\n",
       "    </tr>\n",
       "    <tr>\n",
       "      <td>1527</td>\n",
       "      <td>1527</td>\n",
       "      <td>1365</td>\n",
       "      <td>Interpellation von Anton Stöckli betreffend Tr...</td>\n",
       "      <td>Anton Stöckli SVP</td>\n",
       "      <td>SVP</td>\n",
       "      <td>2005-08-26</td>\n",
       "      <td>Datenmigration</td>\n",
       "      <td>pdoc_984_1.pdf</td>\n",
       "      <td>NaN</td>\n",
       "      <td>Interpellation</td>\n",
       "      <td>/gast/geschaefte/956</td>\n",
       "    </tr>\n",
       "    <tr>\n",
       "      <td>1526</td>\n",
       "      <td>1526</td>\n",
       "      <td>1368</td>\n",
       "      <td>Motion von Thomas Villiger betreffend Ausbagge...</td>\n",
       "      <td>Thomas Villiger SVP</td>\n",
       "      <td>SVP</td>\n",
       "      <td>2005-09-05</td>\n",
       "      <td>Datenmigration</td>\n",
       "      <td>pdoc_1006_1.pdf</td>\n",
       "      <td>NaN</td>\n",
       "      <td>Motion</td>\n",
       "      <td>/gast/geschaefte/959</td>\n",
       "    </tr>\n",
       "    <tr>\n",
       "      <td>980</td>\n",
       "      <td>980</td>\n",
       "      <td>2029</td>\n",
       "      <td>Interpellation von Thomas Aeschi betreffend E-...</td>\n",
       "      <td>Thomas Aeschi SVP</td>\n",
       "      <td>SVP</td>\n",
       "      <td>2011-03-21</td>\n",
       "      <td>Datenmigration</td>\n",
       "      <td>13713_2029_1_E-Government.pdf</td>\n",
       "      <td>NaN</td>\n",
       "      <td>Interpellation</td>\n",
       "      <td>/gast/geschaefte/284</td>\n",
       "    </tr>\n",
       "    <tr>\n",
       "      <td>1519</td>\n",
       "      <td>1519</td>\n",
       "      <td>1378</td>\n",
       "      <td>Motion von Hans Christen, Eusebius Spescha, Be...</td>\n",
       "      <td>Beat Stocker SVP</td>\n",
       "      <td>SVP</td>\n",
       "      <td>2005-10-03</td>\n",
       "      <td>Datenmigration</td>\n",
       "      <td>pdoc_1011_1.pdf</td>\n",
       "      <td>NaN</td>\n",
       "      <td>Motion</td>\n",
       "      <td>/gast/geschaefte/968</td>\n",
       "    </tr>\n",
       "    <tr>\n",
       "      <td>330</td>\n",
       "      <td>330</td>\n",
       "      <td>2760</td>\n",
       "      <td>Motion der SVP-Fraktion betreffend Aufhebung d...</td>\n",
       "      <td>SVP-Fraktion SVP</td>\n",
       "      <td>SVP</td>\n",
       "      <td>2017-06-11</td>\n",
       "      <td>Nicht-Erheblicherklärung</td>\n",
       "      <td>2760-1-15466_Institutionen.pdf</td>\n",
       "      <td>Volkswirtschaftsdirektion</td>\n",
       "      <td>Motion</td>\n",
       "      <td>/gast/geschaefte/1747</td>\n",
       "    </tr>\n",
       "    <tr>\n",
       "      <td>337</td>\n",
       "      <td>337</td>\n",
       "      <td>2754</td>\n",
       "      <td>Kleine Anfrage von Patrick Iten und Rainer Sut...</td>\n",
       "      <td>Rainer Suter SVP</td>\n",
       "      <td>SVP</td>\n",
       "      <td>2017-06-05</td>\n",
       "      <td>Antwort des Regierungsrats</td>\n",
       "      <td>2754-1-15480_KA-Budget.pdf</td>\n",
       "      <td>Finanzdirektion</td>\n",
       "      <td>Kleine Anfrage</td>\n",
       "      <td>/gast/geschaefte/1750</td>\n",
       "    </tr>\n",
       "    <tr>\n",
       "      <td>826</td>\n",
       "      <td>826</td>\n",
       "      <td>2201</td>\n",
       "      <td>Motion von André Wicki betreffend Beseitigung ...</td>\n",
       "      <td>André Wicki SVP</td>\n",
       "      <td>SVP</td>\n",
       "      <td>2012-11-28</td>\n",
       "      <td>Datenmigration</td>\n",
       "      <td>14203_2201_1_Besteuerung.pdf</td>\n",
       "      <td>NaN</td>\n",
       "      <td>Motion</td>\n",
       "      <td>/gast/geschaefte/453</td>\n",
       "    </tr>\n",
       "    <tr>\n",
       "      <td>475</td>\n",
       "      <td>475</td>\n",
       "      <td>2608</td>\n",
       "      <td>Interpellation von Andreas Hürlimann und Phili...</td>\n",
       "      <td>Philip C. Brunner SVP</td>\n",
       "      <td>SVP</td>\n",
       "      <td>2016-04-12</td>\n",
       "      <td>Kenntnisnahme</td>\n",
       "      <td>2608-1-15144_SBB-Zugersee-Ost.pdf</td>\n",
       "      <td>Volkswirtschaftsdirektion</td>\n",
       "      <td>Interpellation</td>\n",
       "      <td>/gast/geschaefte/1594</td>\n",
       "    </tr>\n",
       "    <tr>\n",
       "      <td>480</td>\n",
       "      <td>480</td>\n",
       "      <td>2600</td>\n",
       "      <td>Motion von Kurt Balmer, Heini Schmid, Manuel B...</td>\n",
       "      <td>Manuel Brandenberg SVP</td>\n",
       "      <td>SVP</td>\n",
       "      <td>2016-03-15</td>\n",
       "      <td>Nicht-Erheblicherklärung</td>\n",
       "      <td>2600-1-15124_Institutionelle-M%C3%A4ngel.pdf</td>\n",
       "      <td>Justizprüfungskommission</td>\n",
       "      <td>Motion</td>\n",
       "      <td>/gast/geschaefte/1586</td>\n",
       "    </tr>\n",
       "    <tr>\n",
       "      <td>812</td>\n",
       "      <td>812</td>\n",
       "      <td>2221</td>\n",
       "      <td>Postulat von Philip C. Brunner, Martin Stuber ...</td>\n",
       "      <td>Philip C. Brunner SVP</td>\n",
       "      <td>SVP</td>\n",
       "      <td>2013-02-02</td>\n",
       "      <td>Datenmigration</td>\n",
       "      <td>14251_2221_1_Gleis_1_mit_Beilagen.pdf</td>\n",
       "      <td>NaN</td>\n",
       "      <td>Postulat</td>\n",
       "      <td>/gast/geschaefte/473</td>\n",
       "    </tr>\n",
       "    <tr>\n",
       "      <td>492</td>\n",
       "      <td>492</td>\n",
       "      <td>2593</td>\n",
       "      <td>Interpellation von Rainer Suter betreffend Kon...</td>\n",
       "      <td>Rainer Suter SVP</td>\n",
       "      <td>SVP</td>\n",
       "      <td>2016-02-28</td>\n",
       "      <td>Kenntnisnahme</td>\n",
       "      <td>2593-1-15109_Fluechtlingsunterkunft.pdf</td>\n",
       "      <td>Direktion des Innern</td>\n",
       "      <td>Interpellation</td>\n",
       "      <td>/gast/geschaefte/1577</td>\n",
       "    </tr>\n",
       "    <tr>\n",
       "      <td>1336</td>\n",
       "      <td>1336</td>\n",
       "      <td>1617</td>\n",
       "      <td>Interpellation von Felix Häcki betreffend Ents...</td>\n",
       "      <td>Felix Häcki SVP</td>\n",
       "      <td>SVP</td>\n",
       "      <td>2007-12-06</td>\n",
       "      <td>Datenmigration</td>\n",
       "      <td>pdoc_2001_1.pdf</td>\n",
       "      <td>NaN</td>\n",
       "      <td>Interpellation</td>\n",
       "      <td>/gast/geschaefte/1189</td>\n",
       "    </tr>\n",
       "    <tr>\n",
       "      <td>1331</td>\n",
       "      <td>1331</td>\n",
       "      <td>1623</td>\n",
       "      <td>Interpellation von Felix Häcki betreffend Zahl...</td>\n",
       "      <td>Felix Häcki SVP</td>\n",
       "      <td>SVP</td>\n",
       "      <td>2007-12-18</td>\n",
       "      <td>Datenmigration</td>\n",
       "      <td>pdoc_2004_1.pdf</td>\n",
       "      <td>NaN</td>\n",
       "      <td>Interpellation</td>\n",
       "      <td>/gast/geschaefte/1195</td>\n",
       "    </tr>\n",
       "    <tr>\n",
       "      <td>1329</td>\n",
       "      <td>1329</td>\n",
       "      <td>1628</td>\n",
       "      <td>Kleine Anfrage von Stephan Schleiss betreffend...</td>\n",
       "      <td>Stephan Schleiss SVP</td>\n",
       "      <td>SVP</td>\n",
       "      <td>2008-01-22</td>\n",
       "      <td>Datenmigration</td>\n",
       "      <td>pdoc_2041_1.pdf</td>\n",
       "      <td>NaN</td>\n",
       "      <td>Kleine Anfrage</td>\n",
       "      <td>/gast/geschaefte/1200</td>\n",
       "    </tr>\n",
       "    <tr>\n",
       "      <td>1013</td>\n",
       "      <td>1013</td>\n",
       "      <td>2001</td>\n",
       "      <td>Postulat von Rudolf Balsiger und Moritz Schmid...</td>\n",
       "      <td>Moritz Schmid SVP</td>\n",
       "      <td>SVP</td>\n",
       "      <td>2010-12-14</td>\n",
       "      <td>Datenmigration</td>\n",
       "      <td>13641_2001_1_Kantonsforstamt.pdf</td>\n",
       "      <td>NaN</td>\n",
       "      <td>Postulat</td>\n",
       "      <td>/gast/geschaefte/256</td>\n",
       "    </tr>\n",
       "    <tr>\n",
       "      <td>1345</td>\n",
       "      <td>1345</td>\n",
       "      <td>1605</td>\n",
       "      <td>Interpellation der SVP-Fraktion betreffend Ans...</td>\n",
       "      <td>SVP-Fraktion SVP</td>\n",
       "      <td>SVP</td>\n",
       "      <td>2007-11-05</td>\n",
       "      <td>Datenmigration</td>\n",
       "      <td>pdoc_1934_1.pdf</td>\n",
       "      <td>NaN</td>\n",
       "      <td>Interpellation</td>\n",
       "      <td>/gast/geschaefte/1180</td>\n",
       "    </tr>\n",
       "    <tr>\n",
       "      <td>1379</td>\n",
       "      <td>1379</td>\n",
       "      <td>1574</td>\n",
       "      <td>Interpellation von Barbara Strub, Moritz Schmi...</td>\n",
       "      <td>Moritz Schmid SVP</td>\n",
       "      <td>SVP</td>\n",
       "      <td>2007-08-30</td>\n",
       "      <td>Datenmigration</td>\n",
       "      <td>pdoc_1859_1.pdf</td>\n",
       "      <td>NaN</td>\n",
       "      <td>Interpellation</td>\n",
       "      <td>/gast/geschaefte/1152</td>\n",
       "    </tr>\n",
       "    <tr>\n",
       "      <td>0</td>\n",
       "      <td>0</td>\n",
       "      <td>3031</td>\n",
       "      <td>Interpellation der SVP-Fraktion betreffend Sic...</td>\n",
       "      <td>SVP-Fraktion SVP</td>\n",
       "      <td>SVP</td>\n",
       "      <td>2019-11-26</td>\n",
       "      <td>Einreichung</td>\n",
       "      <td>3031-1-16191_Neutralitaet_Schulen.pdf</td>\n",
       "      <td>Direktion für Bildung und Kultur</td>\n",
       "      <td>Interpellation</td>\n",
       "      <td>/gast/geschaefte/2018</td>\n",
       "    </tr>\n",
       "    <tr>\n",
       "      <td>1422</td>\n",
       "      <td>1422</td>\n",
       "      <td>1517</td>\n",
       "      <td>Interpellation von Stephan Schleiss betreffend...</td>\n",
       "      <td>Stephan Schleiss SVP</td>\n",
       "      <td>SVP</td>\n",
       "      <td>2007-03-07</td>\n",
       "      <td>Datenmigration</td>\n",
       "      <td>pdoc_1681_1.pdf</td>\n",
       "      <td>NaN</td>\n",
       "      <td>Interpellation</td>\n",
       "      <td>/gast/geschaefte/1096</td>\n",
       "    </tr>\n",
       "    <tr>\n",
       "      <td>436</td>\n",
       "      <td>436</td>\n",
       "      <td>2654</td>\n",
       "      <td>Motion der SVP-Fraktion betreffend Änderung de...</td>\n",
       "      <td>SVP-Fraktion SVP</td>\n",
       "      <td>SVP</td>\n",
       "      <td>2016-08-23</td>\n",
       "      <td>Nicht-Erheblicherklärung</td>\n",
       "      <td>2654-1-15242_Lehrplan.pdf</td>\n",
       "      <td>Direktion für Bildung und Kultur</td>\n",
       "      <td>Motion</td>\n",
       "      <td>/gast/geschaefte/1641</td>\n",
       "    </tr>\n",
       "    <tr>\n",
       "      <td>438</td>\n",
       "      <td>438</td>\n",
       "      <td>2650</td>\n",
       "      <td>Interpellation der SVP-Fraktion betreffend bud...</td>\n",
       "      <td>SVP-Fraktion SVP</td>\n",
       "      <td>SVP</td>\n",
       "      <td>2016-08-09</td>\n",
       "      <td>Kenntnisnahme</td>\n",
       "      <td>2650-1-15236_VAM.pdf</td>\n",
       "      <td>Volkswirtschaftsdirektion</td>\n",
       "      <td>Interpellation</td>\n",
       "      <td>/gast/geschaefte/1637</td>\n",
       "    </tr>\n",
       "    <tr>\n",
       "      <td>1407</td>\n",
       "      <td>1407</td>\n",
       "      <td>1532</td>\n",
       "      <td>Motion von Stephan Schleiss und Rudolf Balsige...</td>\n",
       "      <td>Stephan Schleiss SVP</td>\n",
       "      <td>SVP</td>\n",
       "      <td>2007-05-04</td>\n",
       "      <td>Datenmigration</td>\n",
       "      <td>pdoc_1747_1.pdf</td>\n",
       "      <td>NaN</td>\n",
       "      <td>Motion</td>\n",
       "      <td>/gast/geschaefte/1111</td>\n",
       "    </tr>\n",
       "    <tr>\n",
       "      <td>427</td>\n",
       "      <td>427</td>\n",
       "      <td>2667</td>\n",
       "      <td>Interpellation der SVP-Fraktion betreffend Ver...</td>\n",
       "      <td>SVP-Fraktion SVP</td>\n",
       "      <td>SVP</td>\n",
       "      <td>2016-09-21</td>\n",
       "      <td>Kenntnisnahme</td>\n",
       "      <td>2667-1-15273_genderfit.pdf</td>\n",
       "      <td>Direktion des Innern</td>\n",
       "      <td>Interpellation</td>\n",
       "      <td>/gast/geschaefte/1656</td>\n",
       "    </tr>\n",
       "    <tr>\n",
       "      <td>997</td>\n",
       "      <td>997</td>\n",
       "      <td>2013</td>\n",
       "      <td>Interpellation von Hans Christen, Zari Dzaferi...</td>\n",
       "      <td>Werner Villiger SVP</td>\n",
       "      <td>SVP</td>\n",
       "      <td>2011-01-27</td>\n",
       "      <td>Datenmigration</td>\n",
       "      <td>13665_2013_1_Doppelspur.pdf</td>\n",
       "      <td>NaN</td>\n",
       "      <td>Interpellation</td>\n",
       "      <td>/gast/geschaefte/268</td>\n",
       "    </tr>\n",
       "    <tr>\n",
       "      <td>1405</td>\n",
       "      <td>1405</td>\n",
       "      <td>1533</td>\n",
       "      <td>Motion der SVP-Fraktion betreffend Taskforce S...</td>\n",
       "      <td>SVP-Fraktion SVP</td>\n",
       "      <td>SVP</td>\n",
       "      <td>2007-05-07</td>\n",
       "      <td>Datenmigration</td>\n",
       "      <td>pdoc_1713_1.pdf</td>\n",
       "      <td>NaN</td>\n",
       "      <td>Motion</td>\n",
       "      <td>/gast/geschaefte/1112</td>\n",
       "    </tr>\n",
       "    <tr>\n",
       "      <td>1401</td>\n",
       "      <td>1401</td>\n",
       "      <td>1537</td>\n",
       "      <td>Interpellation von Stephan Schleiss betreffend...</td>\n",
       "      <td>Stephan Schleiss SVP</td>\n",
       "      <td>SVP</td>\n",
       "      <td>2007-05-11</td>\n",
       "      <td>Datenmigration</td>\n",
       "      <td>pdoc_1750_1.pdf</td>\n",
       "      <td>NaN</td>\n",
       "      <td>Interpellation</td>\n",
       "      <td>/gast/geschaefte/1116</td>\n",
       "    </tr>\n",
       "    <tr>\n",
       "      <td>1400</td>\n",
       "      <td>1400</td>\n",
       "      <td>1538</td>\n",
       "      <td>Interpellation der SVP-Fraktion betreffend Gew...</td>\n",
       "      <td>SVP-Fraktion SVP</td>\n",
       "      <td>SVP</td>\n",
       "      <td>2007-05-13</td>\n",
       "      <td>Datenmigration</td>\n",
       "      <td>pdoc_1751_1.pdf</td>\n",
       "      <td>NaN</td>\n",
       "      <td>Interpellation</td>\n",
       "      <td>/gast/geschaefte/1117</td>\n",
       "    </tr>\n",
       "    <tr>\n",
       "      <td>1396</td>\n",
       "      <td>1396</td>\n",
       "      <td>1545</td>\n",
       "      <td>Motion der SVP-Fraktion betreffend LSVA-Einnah...</td>\n",
       "      <td>SVP-Fraktion SVP</td>\n",
       "      <td>SVP</td>\n",
       "      <td>2007-05-31</td>\n",
       "      <td>Datenmigration</td>\n",
       "      <td>pdoc_1754_1.pdf</td>\n",
       "      <td>NaN</td>\n",
       "      <td>Motion</td>\n",
       "      <td>/gast/geschaefte/1124</td>\n",
       "    </tr>\n",
       "    <tr>\n",
       "      <td>450</td>\n",
       "      <td>450</td>\n",
       "      <td>2636</td>\n",
       "      <td>Postulat von Peter Letter, Laura Dittli, Iris ...</td>\n",
       "      <td>Thomas Werner SVP</td>\n",
       "      <td>SVP</td>\n",
       "      <td>2016-06-13</td>\n",
       "      <td>Erledigterklärung</td>\n",
       "      <td>2636-1-15187-Denkm%C3%A4ler.pdf</td>\n",
       "      <td>Direktion des Innern</td>\n",
       "      <td>Postulat</td>\n",
       "      <td>/gast/geschaefte/1621</td>\n",
       "    </tr>\n",
       "    <tr>\n",
       "      <td>823</td>\n",
       "      <td>823</td>\n",
       "      <td>2205</td>\n",
       "      <td>Motion der SVP-Fraktion betreffend Anpassung d...</td>\n",
       "      <td>SVP-Fraktion SVP</td>\n",
       "      <td>SVP</td>\n",
       "      <td>2012-12-03</td>\n",
       "      <td>Datenmigration</td>\n",
       "      <td>14209_2205_1_Sozialhilfe.pdf</td>\n",
       "      <td>NaN</td>\n",
       "      <td>Motion</td>\n",
       "      <td>/gast/geschaefte/457</td>\n",
       "    </tr>\n",
       "    <tr>\n",
       "      <td>1387</td>\n",
       "      <td>1387</td>\n",
       "      <td>1564</td>\n",
       "      <td>Motion von Werner Villiger und Rudolf Balsiger...</td>\n",
       "      <td>Werner Villiger SVP</td>\n",
       "      <td>SVP</td>\n",
       "      <td>2007-07-19</td>\n",
       "      <td>Datenmigration</td>\n",
       "      <td>pdoc_1842_1.pdf</td>\n",
       "      <td>NaN</td>\n",
       "      <td>Motion</td>\n",
       "      <td>/gast/geschaefte/1142</td>\n",
       "    </tr>\n",
       "    <tr>\n",
       "      <td>459</td>\n",
       "      <td>459</td>\n",
       "      <td>2631</td>\n",
       "      <td>Kleine Anfrage von Philip C. Brunner betreffen...</td>\n",
       "      <td>Philip C. Brunner SVP</td>\n",
       "      <td>SVP</td>\n",
       "      <td>2016-05-24</td>\n",
       "      <td>Antwort des Regierungsrats</td>\n",
       "      <td>2631-1-15200_KA-Steuerdaten.pdf</td>\n",
       "      <td>Finanzdirektion</td>\n",
       "      <td>Kleine Anfrage</td>\n",
       "      <td>/gast/geschaefte/1625</td>\n",
       "    </tr>\n",
       "    <tr>\n",
       "      <td>1418</td>\n",
       "      <td>1418</td>\n",
       "      <td>1521</td>\n",
       "      <td>Motion der SVP-Fraktion betreffend Anpassung d...</td>\n",
       "      <td>SVP-Fraktion SVP</td>\n",
       "      <td>SVP</td>\n",
       "      <td>2007-03-14</td>\n",
       "      <td>Datenmigration</td>\n",
       "      <td>pdoc_1684_1.pdf</td>\n",
       "      <td>NaN</td>\n",
       "      <td>Motion</td>\n",
       "      <td>/gast/geschaefte/1100</td>\n",
       "    </tr>\n",
       "    <tr>\n",
       "      <td>167</td>\n",
       "      <td>167</td>\n",
       "      <td>2914</td>\n",
       "      <td>Motion von Willi Vollenweider betreffend eines...</td>\n",
       "      <td>Willi Vollenweider pl</td>\n",
       "      <td>pl</td>\n",
       "      <td>2018-11-12</td>\n",
       "      <td>Nicht-Erheblicherklärung</td>\n",
       "      <td>2914-1-15923-Qualit%C3%A4ts-Management.pdf</td>\n",
       "      <td>Direktion für Bildung und Kultur</td>\n",
       "      <td>Motion</td>\n",
       "      <td>/gast/geschaefte/1902</td>\n",
       "    </tr>\n",
       "    <tr>\n",
       "      <td>564</td>\n",
       "      <td>564</td>\n",
       "      <td>2548</td>\n",
       "      <td>Interpellation von Willi Vollenweider und Phil...</td>\n",
       "      <td>Willi Vollenweider pl</td>\n",
       "      <td>pl</td>\n",
       "      <td>2015-09-04</td>\n",
       "      <td>Kenntnisnahme</td>\n",
       "      <td>2548-1-15012_Armee-Halbierung.pdf</td>\n",
       "      <td>Sicherheitsdirektion</td>\n",
       "      <td>Interpellation</td>\n",
       "      <td>/gast/geschaefte/1535</td>\n",
       "    </tr>\n",
       "    <tr>\n",
       "      <td>1470</td>\n",
       "      <td>1470</td>\n",
       "      <td>1458</td>\n",
       "      <td>Interpellation von Stefan Gisler und Christian...</td>\n",
       "      <td>Christian Siegwart pl</td>\n",
       "      <td>pl</td>\n",
       "      <td>2006-06-26</td>\n",
       "      <td>Datenmigration</td>\n",
       "      <td>pdoc_1372_1.pdf</td>\n",
       "      <td>NaN</td>\n",
       "      <td>Interpellation</td>\n",
       "      <td>/gast/geschaefte/1042</td>\n",
       "    </tr>\n",
       "    <tr>\n",
       "      <td>387</td>\n",
       "      <td>387</td>\n",
       "      <td>2715</td>\n",
       "      <td>Motion und Postulat  von Willi Vollenweider be...</td>\n",
       "      <td>Willi Vollenweider pl</td>\n",
       "      <td>pl</td>\n",
       "      <td>2017-02-02</td>\n",
       "      <td>Nichtüberweisung</td>\n",
       "      <td>2715-1-15368_Kantonsreferendum.pdf</td>\n",
       "      <td>Volkswirtschaftsdirektion</td>\n",
       "      <td>Motion</td>\n",
       "      <td>/gast/geschaefte/1704</td>\n",
       "    </tr>\n",
       "    <tr>\n",
       "      <td>587</td>\n",
       "      <td>587</td>\n",
       "      <td>2512</td>\n",
       "      <td>Postulat von Willi Vollenweider betreffend Nei...</td>\n",
       "      <td>Willi Vollenweider pl</td>\n",
       "      <td>pl</td>\n",
       "      <td>2015-05-12</td>\n",
       "      <td>Nichtüberweisung</td>\n",
       "      <td>2512-1-14943_%C3%B6VKunden.pdf</td>\n",
       "      <td>Volkswirtschaftsdirektion</td>\n",
       "      <td>Postulat</td>\n",
       "      <td>/gast/geschaefte/1498</td>\n",
       "    </tr>\n",
       "    <tr>\n",
       "      <td>247</td>\n",
       "      <td>247</td>\n",
       "      <td>2835</td>\n",
       "      <td>Interpellation von Willi Vollenweider betreffe...</td>\n",
       "      <td>Willi Vollenweider pl</td>\n",
       "      <td>pl</td>\n",
       "      <td>2018-02-14</td>\n",
       "      <td>Kenntnisnahme</td>\n",
       "      <td>2835-1-15687_Gueterbahnhof.pdf</td>\n",
       "      <td>Baudirektion</td>\n",
       "      <td>Interpellation</td>\n",
       "      <td>/gast/geschaefte/1825</td>\n",
       "    </tr>\n",
       "    <tr>\n",
       "      <td>166</td>\n",
       "      <td>166</td>\n",
       "      <td>2916</td>\n",
       "      <td>Postulat von Willi Vollenweider betreffend Prü...</td>\n",
       "      <td>Willi Vollenweider pl</td>\n",
       "      <td>pl</td>\n",
       "      <td>2018-11-25</td>\n",
       "      <td>Nicht-Erheblicherklärung</td>\n",
       "      <td>2916-1-15932_Home-Guard.pdf</td>\n",
       "      <td>Sicherheitsdirektion</td>\n",
       "      <td>Postulat</td>\n",
       "      <td>/gast/geschaefte/1904</td>\n",
       "    </tr>\n",
       "    <tr>\n",
       "      <td>221</td>\n",
       "      <td>221</td>\n",
       "      <td>2858</td>\n",
       "      <td>Interpellation von Willi Vollenweider betreffe...</td>\n",
       "      <td>Willi Vollenweider pl</td>\n",
       "      <td>pl</td>\n",
       "      <td>2018-04-12</td>\n",
       "      <td>Kenntnisnahme</td>\n",
       "      <td>2858-1-15760_Schutz.pdf</td>\n",
       "      <td>Sicherheitsdirektion</td>\n",
       "      <td>Interpellation</td>\n",
       "      <td>/gast/geschaefte/1848</td>\n",
       "    </tr>\n",
       "  </tbody>\n",
       "</table>\n",
       "</div>"
      ],
      "text/plain": [
       "      Unnamed: 0  VorlageNR  \\\n",
       "307          307       2781   \n",
       "1541        1541       1354   \n",
       "309          309       2777   \n",
       "1539        1539       1356   \n",
       "312          312       2774   \n",
       "313          313       2773   \n",
       "1534        1534       1362   \n",
       "844          844       2162   \n",
       "979          979       2030   \n",
       "1527        1527       1365   \n",
       "1526        1526       1368   \n",
       "980          980       2029   \n",
       "1519        1519       1378   \n",
       "330          330       2760   \n",
       "337          337       2754   \n",
       "826          826       2201   \n",
       "475          475       2608   \n",
       "480          480       2600   \n",
       "812          812       2221   \n",
       "492          492       2593   \n",
       "1336        1336       1617   \n",
       "1331        1331       1623   \n",
       "1329        1329       1628   \n",
       "1013        1013       2001   \n",
       "1345        1345       1605   \n",
       "1379        1379       1574   \n",
       "0              0       3031   \n",
       "1422        1422       1517   \n",
       "436          436       2654   \n",
       "438          438       2650   \n",
       "1407        1407       1532   \n",
       "427          427       2667   \n",
       "997          997       2013   \n",
       "1405        1405       1533   \n",
       "1401        1401       1537   \n",
       "1400        1400       1538   \n",
       "1396        1396       1545   \n",
       "450          450       2636   \n",
       "823          823       2205   \n",
       "1387        1387       1564   \n",
       "459          459       2631   \n",
       "1418        1418       1521   \n",
       "167          167       2914   \n",
       "564          564       2548   \n",
       "1470        1470       1458   \n",
       "387          387       2715   \n",
       "587          587       2512   \n",
       "247          247       2835   \n",
       "166          166       2916   \n",
       "221          221       2858   \n",
       "\n",
       "                                               Geschäft  \\\n",
       "307   Motion von Thomas Werner betreffend Anpassung ...   \n",
       "1541  Postulat von Manuel Aeschbacher betreffend Pub...   \n",
       "309   Postulat von Jean-Luc Mösch, Rainer Suter und ...   \n",
       "1539  Motion der SVP-Fraktion betreffend Änderung de...   \n",
       "312   Interpellation der SVP-Fraktion betreffend Ung...   \n",
       "313   Kleine Anfrage der SVP-Fraktion betreffend Wer...   \n",
       "1534  Interpellation von Monika Barmet, Karl Künzle,...   \n",
       "844   Interpellation der SVP-Fraktion betreffend Kra...   \n",
       "979   Interpellation von Thomas Aeschi betreffend Il...   \n",
       "1527  Interpellation von Anton Stöckli betreffend Tr...   \n",
       "1526  Motion von Thomas Villiger betreffend Ausbagge...   \n",
       "980   Interpellation von Thomas Aeschi betreffend E-...   \n",
       "1519  Motion von Hans Christen, Eusebius Spescha, Be...   \n",
       "330   Motion der SVP-Fraktion betreffend Aufhebung d...   \n",
       "337   Kleine Anfrage von Patrick Iten und Rainer Sut...   \n",
       "826   Motion von André Wicki betreffend Beseitigung ...   \n",
       "475   Interpellation von Andreas Hürlimann und Phili...   \n",
       "480   Motion von Kurt Balmer, Heini Schmid, Manuel B...   \n",
       "812   Postulat von Philip C. Brunner, Martin Stuber ...   \n",
       "492   Interpellation von Rainer Suter betreffend Kon...   \n",
       "1336  Interpellation von Felix Häcki betreffend Ents...   \n",
       "1331  Interpellation von Felix Häcki betreffend Zahl...   \n",
       "1329  Kleine Anfrage von Stephan Schleiss betreffend...   \n",
       "1013  Postulat von Rudolf Balsiger und Moritz Schmid...   \n",
       "1345  Interpellation der SVP-Fraktion betreffend Ans...   \n",
       "1379  Interpellation von Barbara Strub, Moritz Schmi...   \n",
       "0     Interpellation der SVP-Fraktion betreffend Sic...   \n",
       "1422  Interpellation von Stephan Schleiss betreffend...   \n",
       "436   Motion der SVP-Fraktion betreffend Änderung de...   \n",
       "438   Interpellation der SVP-Fraktion betreffend bud...   \n",
       "1407  Motion von Stephan Schleiss und Rudolf Balsige...   \n",
       "427   Interpellation der SVP-Fraktion betreffend Ver...   \n",
       "997   Interpellation von Hans Christen, Zari Dzaferi...   \n",
       "1405  Motion der SVP-Fraktion betreffend Taskforce S...   \n",
       "1401  Interpellation von Stephan Schleiss betreffend...   \n",
       "1400  Interpellation der SVP-Fraktion betreffend Gew...   \n",
       "1396  Motion der SVP-Fraktion betreffend LSVA-Einnah...   \n",
       "450   Postulat von Peter Letter, Laura Dittli, Iris ...   \n",
       "823   Motion der SVP-Fraktion betreffend Anpassung d...   \n",
       "1387  Motion von Werner Villiger und Rudolf Balsiger...   \n",
       "459   Kleine Anfrage von Philip C. Brunner betreffen...   \n",
       "1418  Motion der SVP-Fraktion betreffend Anpassung d...   \n",
       "167   Motion von Willi Vollenweider betreffend eines...   \n",
       "564   Interpellation von Willi Vollenweider und Phil...   \n",
       "1470  Interpellation von Stefan Gisler und Christian...   \n",
       "387   Motion und Postulat  von Willi Vollenweider be...   \n",
       "587   Postulat von Willi Vollenweider betreffend Nei...   \n",
       "247   Interpellation von Willi Vollenweider betreffe...   \n",
       "166   Postulat von Willi Vollenweider betreffend Prü...   \n",
       "221   Interpellation von Willi Vollenweider betreffe...   \n",
       "\n",
       "                   Namenganz    P Einreichedatum                       Stand  \\\n",
       "307        Thomas Werner SVP  SVP     2017-09-11    Nicht-Erheblicherklärung   \n",
       "1541  Manuel Aeschbacher SVP  SVP     2005-06-15              Datenmigration   \n",
       "309         Rainer Suter SVP  SVP     2017-09-03           Erledigterklärung   \n",
       "1539        SVP-Fraktion SVP  SVP     2005-06-30              Datenmigration   \n",
       "312         SVP-Fraktion SVP  SVP     2017-08-15               Kenntnisnahme   \n",
       "313         SVP-Fraktion SVP  SVP     2017-08-15  Antwort des Regierungsrats   \n",
       "1534     Karl Nussbaumer SVP  SVP     2005-08-04              Datenmigration   \n",
       "844         SVP-Fraktion SVP  SVP     2012-06-15              Datenmigration   \n",
       "979        Thomas Aeschi SVP  SVP     2011-03-21              Datenmigration   \n",
       "1527       Anton Stöckli SVP  SVP     2005-08-26              Datenmigration   \n",
       "1526     Thomas Villiger SVP  SVP     2005-09-05              Datenmigration   \n",
       "980        Thomas Aeschi SVP  SVP     2011-03-21              Datenmigration   \n",
       "1519        Beat Stocker SVP  SVP     2005-10-03              Datenmigration   \n",
       "330         SVP-Fraktion SVP  SVP     2017-06-11    Nicht-Erheblicherklärung   \n",
       "337         Rainer Suter SVP  SVP     2017-06-05  Antwort des Regierungsrats   \n",
       "826          André Wicki SVP  SVP     2012-11-28              Datenmigration   \n",
       "475    Philip C. Brunner SVP  SVP     2016-04-12               Kenntnisnahme   \n",
       "480   Manuel Brandenberg SVP  SVP     2016-03-15    Nicht-Erheblicherklärung   \n",
       "812    Philip C. Brunner SVP  SVP     2013-02-02              Datenmigration   \n",
       "492         Rainer Suter SVP  SVP     2016-02-28               Kenntnisnahme   \n",
       "1336         Felix Häcki SVP  SVP     2007-12-06              Datenmigration   \n",
       "1331         Felix Häcki SVP  SVP     2007-12-18              Datenmigration   \n",
       "1329    Stephan Schleiss SVP  SVP     2008-01-22              Datenmigration   \n",
       "1013       Moritz Schmid SVP  SVP     2010-12-14              Datenmigration   \n",
       "1345        SVP-Fraktion SVP  SVP     2007-11-05              Datenmigration   \n",
       "1379       Moritz Schmid SVP  SVP     2007-08-30              Datenmigration   \n",
       "0           SVP-Fraktion SVP  SVP     2019-11-26                 Einreichung   \n",
       "1422    Stephan Schleiss SVP  SVP     2007-03-07              Datenmigration   \n",
       "436         SVP-Fraktion SVP  SVP     2016-08-23    Nicht-Erheblicherklärung   \n",
       "438         SVP-Fraktion SVP  SVP     2016-08-09               Kenntnisnahme   \n",
       "1407    Stephan Schleiss SVP  SVP     2007-05-04              Datenmigration   \n",
       "427         SVP-Fraktion SVP  SVP     2016-09-21               Kenntnisnahme   \n",
       "997      Werner Villiger SVP  SVP     2011-01-27              Datenmigration   \n",
       "1405        SVP-Fraktion SVP  SVP     2007-05-07              Datenmigration   \n",
       "1401    Stephan Schleiss SVP  SVP     2007-05-11              Datenmigration   \n",
       "1400        SVP-Fraktion SVP  SVP     2007-05-13              Datenmigration   \n",
       "1396        SVP-Fraktion SVP  SVP     2007-05-31              Datenmigration   \n",
       "450        Thomas Werner SVP  SVP     2016-06-13           Erledigterklärung   \n",
       "823         SVP-Fraktion SVP  SVP     2012-12-03              Datenmigration   \n",
       "1387     Werner Villiger SVP  SVP     2007-07-19              Datenmigration   \n",
       "459    Philip C. Brunner SVP  SVP     2016-05-24  Antwort des Regierungsrats   \n",
       "1418        SVP-Fraktion SVP  SVP     2007-03-14              Datenmigration   \n",
       "167    Willi Vollenweider pl   pl     2018-11-12    Nicht-Erheblicherklärung   \n",
       "564    Willi Vollenweider pl   pl     2015-09-04               Kenntnisnahme   \n",
       "1470   Christian Siegwart pl   pl     2006-06-26              Datenmigration   \n",
       "387    Willi Vollenweider pl   pl     2017-02-02            Nichtüberweisung   \n",
       "587    Willi Vollenweider pl   pl     2015-05-12            Nichtüberweisung   \n",
       "247    Willi Vollenweider pl   pl     2018-02-14               Kenntnisnahme   \n",
       "166    Willi Vollenweider pl   pl     2018-11-25    Nicht-Erheblicherklärung   \n",
       "221    Willi Vollenweider pl   pl     2018-04-12               Kenntnisnahme   \n",
       "\n",
       "                                 Link Vorstoss-PDF  \\\n",
       "307                                           1771   \n",
       "1541                                pdoc_944_1.pdf   \n",
       "309         2777-1-15555_Bahnanbindung-ZUGWEST.pdf   \n",
       "1539                                pdoc_962_1.pdf   \n",
       "312                                           1764   \n",
       "313                                           1763   \n",
       "1534                                pdoc_972_1.pdf   \n",
       "844                  14107_2162_1_Sans-Papiers.pdf   \n",
       "979                  13714_2030_1_Illegale_neu.pdf   \n",
       "1527                                pdoc_984_1.pdf   \n",
       "1526                               pdoc_1006_1.pdf   \n",
       "980                  13713_2029_1_E-Government.pdf   \n",
       "1519                               pdoc_1011_1.pdf   \n",
       "330                 2760-1-15466_Institutionen.pdf   \n",
       "337                     2754-1-15480_KA-Budget.pdf   \n",
       "826                   14203_2201_1_Besteuerung.pdf   \n",
       "475              2608-1-15144_SBB-Zugersee-Ost.pdf   \n",
       "480   2600-1-15124_Institutionelle-M%C3%A4ngel.pdf   \n",
       "812          14251_2221_1_Gleis_1_mit_Beilagen.pdf   \n",
       "492        2593-1-15109_Fluechtlingsunterkunft.pdf   \n",
       "1336                               pdoc_2001_1.pdf   \n",
       "1331                               pdoc_2004_1.pdf   \n",
       "1329                               pdoc_2041_1.pdf   \n",
       "1013              13641_2001_1_Kantonsforstamt.pdf   \n",
       "1345                               pdoc_1934_1.pdf   \n",
       "1379                               pdoc_1859_1.pdf   \n",
       "0            3031-1-16191_Neutralitaet_Schulen.pdf   \n",
       "1422                               pdoc_1681_1.pdf   \n",
       "436                      2654-1-15242_Lehrplan.pdf   \n",
       "438                           2650-1-15236_VAM.pdf   \n",
       "1407                               pdoc_1747_1.pdf   \n",
       "427                     2667-1-15273_genderfit.pdf   \n",
       "997                    13665_2013_1_Doppelspur.pdf   \n",
       "1405                               pdoc_1713_1.pdf   \n",
       "1401                               pdoc_1750_1.pdf   \n",
       "1400                               pdoc_1751_1.pdf   \n",
       "1396                               pdoc_1754_1.pdf   \n",
       "450                2636-1-15187-Denkm%C3%A4ler.pdf   \n",
       "823                   14209_2205_1_Sozialhilfe.pdf   \n",
       "1387                               pdoc_1842_1.pdf   \n",
       "459                2631-1-15200_KA-Steuerdaten.pdf   \n",
       "1418                               pdoc_1684_1.pdf   \n",
       "167     2914-1-15923-Qualit%C3%A4ts-Management.pdf   \n",
       "564              2548-1-15012_Armee-Halbierung.pdf   \n",
       "1470                               pdoc_1372_1.pdf   \n",
       "387             2715-1-15368_Kantonsreferendum.pdf   \n",
       "587                 2512-1-14943_%C3%B6VKunden.pdf   \n",
       "247                 2835-1-15687_Gueterbahnhof.pdf   \n",
       "166                    2916-1-15932_Home-Guard.pdf   \n",
       "221                        2858-1-15760_Schutz.pdf   \n",
       "\n",
       "                         Zuständigkeit Art des Geschäfts  \\\n",
       "307                       Baudirektion            Motion   \n",
       "1541                               NaN          Postulat   \n",
       "309          Volkswirtschaftsdirektion          Postulat   \n",
       "1539                               NaN            Motion   \n",
       "312               Sicherheitsdirektion    Interpellation   \n",
       "313               Sicherheitsdirektion    Kleine Anfrage   \n",
       "1534                               NaN    Interpellation   \n",
       "844                                NaN    Interpellation   \n",
       "979                                NaN    Interpellation   \n",
       "1527                               NaN    Interpellation   \n",
       "1526                               NaN            Motion   \n",
       "980                                NaN    Interpellation   \n",
       "1519                               NaN            Motion   \n",
       "330          Volkswirtschaftsdirektion            Motion   \n",
       "337                    Finanzdirektion    Kleine Anfrage   \n",
       "826                                NaN            Motion   \n",
       "475          Volkswirtschaftsdirektion    Interpellation   \n",
       "480           Justizprüfungskommission            Motion   \n",
       "812                                NaN          Postulat   \n",
       "492               Direktion des Innern    Interpellation   \n",
       "1336                               NaN    Interpellation   \n",
       "1331                               NaN    Interpellation   \n",
       "1329                               NaN    Kleine Anfrage   \n",
       "1013                               NaN          Postulat   \n",
       "1345                               NaN    Interpellation   \n",
       "1379                               NaN    Interpellation   \n",
       "0     Direktion für Bildung und Kultur    Interpellation   \n",
       "1422                               NaN    Interpellation   \n",
       "436   Direktion für Bildung und Kultur            Motion   \n",
       "438          Volkswirtschaftsdirektion    Interpellation   \n",
       "1407                               NaN            Motion   \n",
       "427               Direktion des Innern    Interpellation   \n",
       "997                                NaN    Interpellation   \n",
       "1405                               NaN            Motion   \n",
       "1401                               NaN    Interpellation   \n",
       "1400                               NaN    Interpellation   \n",
       "1396                               NaN            Motion   \n",
       "450               Direktion des Innern          Postulat   \n",
       "823                                NaN            Motion   \n",
       "1387                               NaN            Motion   \n",
       "459                    Finanzdirektion    Kleine Anfrage   \n",
       "1418                               NaN            Motion   \n",
       "167   Direktion für Bildung und Kultur            Motion   \n",
       "564               Sicherheitsdirektion    Interpellation   \n",
       "1470                               NaN    Interpellation   \n",
       "387          Volkswirtschaftsdirektion            Motion   \n",
       "587          Volkswirtschaftsdirektion          Postulat   \n",
       "247                       Baudirektion    Interpellation   \n",
       "166               Sicherheitsdirektion          Postulat   \n",
       "221               Sicherheitsdirektion    Interpellation   \n",
       "\n",
       "                        url  \n",
       "307   /gast/geschaefte/1771  \n",
       "1541   /gast/geschaefte/945  \n",
       "309   /gast/geschaefte/1767  \n",
       "1539   /gast/geschaefte/947  \n",
       "312   /gast/geschaefte/1764  \n",
       "313   /gast/geschaefte/1763  \n",
       "1534   /gast/geschaefte/953  \n",
       "844    /gast/geschaefte/414  \n",
       "979    /gast/geschaefte/285  \n",
       "1527   /gast/geschaefte/956  \n",
       "1526   /gast/geschaefte/959  \n",
       "980    /gast/geschaefte/284  \n",
       "1519   /gast/geschaefte/968  \n",
       "330   /gast/geschaefte/1747  \n",
       "337   /gast/geschaefte/1750  \n",
       "826    /gast/geschaefte/453  \n",
       "475   /gast/geschaefte/1594  \n",
       "480   /gast/geschaefte/1586  \n",
       "812    /gast/geschaefte/473  \n",
       "492   /gast/geschaefte/1577  \n",
       "1336  /gast/geschaefte/1189  \n",
       "1331  /gast/geschaefte/1195  \n",
       "1329  /gast/geschaefte/1200  \n",
       "1013   /gast/geschaefte/256  \n",
       "1345  /gast/geschaefte/1180  \n",
       "1379  /gast/geschaefte/1152  \n",
       "0     /gast/geschaefte/2018  \n",
       "1422  /gast/geschaefte/1096  \n",
       "436   /gast/geschaefte/1641  \n",
       "438   /gast/geschaefte/1637  \n",
       "1407  /gast/geschaefte/1111  \n",
       "427   /gast/geschaefte/1656  \n",
       "997    /gast/geschaefte/268  \n",
       "1405  /gast/geschaefte/1112  \n",
       "1401  /gast/geschaefte/1116  \n",
       "1400  /gast/geschaefte/1117  \n",
       "1396  /gast/geschaefte/1124  \n",
       "450   /gast/geschaefte/1621  \n",
       "823    /gast/geschaefte/457  \n",
       "1387  /gast/geschaefte/1142  \n",
       "459   /gast/geschaefte/1625  \n",
       "1418  /gast/geschaefte/1100  \n",
       "167   /gast/geschaefte/1902  \n",
       "564   /gast/geschaefte/1535  \n",
       "1470  /gast/geschaefte/1042  \n",
       "387   /gast/geschaefte/1704  \n",
       "587   /gast/geschaefte/1498  \n",
       "247   /gast/geschaefte/1825  \n",
       "166   /gast/geschaefte/1904  \n",
       "221   /gast/geschaefte/1848  "
      ]
     },
     "execution_count": 8,
     "metadata": {},
     "output_type": "execute_result"
    }
   ],
   "source": [
    "df2.tail(50)"
   ]
  },
  {
   "cell_type": "code",
   "execution_count": 9,
   "metadata": {},
   "outputs": [],
   "source": [
    "df4=df2.set_index(pd.DatetimeIndex(df2[\"Einreichedatum\"]))\n",
    "                 \n"
   ]
  },
  {
   "cell_type": "code",
   "execution_count": 10,
   "metadata": {},
   "outputs": [],
   "source": [
    "df5=df4.sort_index().head(1088)"
   ]
  },
  {
   "cell_type": "code",
   "execution_count": 12,
   "metadata": {},
   "outputs": [
    {
     "data": {
      "text/html": [
       "<div>\n",
       "<style scoped>\n",
       "    .dataframe tbody tr th:only-of-type {\n",
       "        vertical-align: middle;\n",
       "    }\n",
       "\n",
       "    .dataframe tbody tr th {\n",
       "        vertical-align: top;\n",
       "    }\n",
       "\n",
       "    .dataframe thead th {\n",
       "        text-align: right;\n",
       "    }\n",
       "</style>\n",
       "<table border=\"1\" class=\"dataframe\">\n",
       "  <thead>\n",
       "    <tr style=\"text-align: right;\">\n",
       "      <th></th>\n",
       "      <th>Unnamed: 0</th>\n",
       "      <th>VorlageNR</th>\n",
       "      <th>Geschäft</th>\n",
       "      <th>Namenganz</th>\n",
       "      <th>P</th>\n",
       "      <th>Einreichedatum</th>\n",
       "      <th>Stand</th>\n",
       "      <th>Link Vorstoss-PDF</th>\n",
       "      <th>Zuständigkeit</th>\n",
       "      <th>Art des Geschäfts</th>\n",
       "      <th>url</th>\n",
       "    </tr>\n",
       "    <tr>\n",
       "      <th>Einreichedatum</th>\n",
       "      <th></th>\n",
       "      <th></th>\n",
       "      <th></th>\n",
       "      <th></th>\n",
       "      <th></th>\n",
       "      <th></th>\n",
       "      <th></th>\n",
       "      <th></th>\n",
       "      <th></th>\n",
       "      <th></th>\n",
       "      <th></th>\n",
       "    </tr>\n",
       "  </thead>\n",
       "  <tbody>\n",
       "    <tr>\n",
       "      <td>1982-12-16</td>\n",
       "      <td>1642</td>\n",
       "      <td>1223</td>\n",
       "      <td>Motion von Karl Betschart, Andrea Hodel und Be...</td>\n",
       "      <td>Beat Villiger CVP</td>\n",
       "      <td>CVP</td>\n",
       "      <td>1982-12-16</td>\n",
       "      <td>Datenmigration</td>\n",
       "      <td>pdoc_656_1.pdf</td>\n",
       "      <td>NaN</td>\n",
       "      <td>Motion</td>\n",
       "      <td>/gast/geschaefte/823</td>\n",
       "    </tr>\n",
       "    <tr>\n",
       "      <td>1982-12-16</td>\n",
       "      <td>1644</td>\n",
       "      <td>1223</td>\n",
       "      <td>Motion von Karl Betschart, Andrea Hodel und Be...</td>\n",
       "      <td>Karl Betschart SVP</td>\n",
       "      <td>SVP</td>\n",
       "      <td>1982-12-16</td>\n",
       "      <td>Datenmigration</td>\n",
       "      <td>pdoc_656_1.pdf</td>\n",
       "      <td>NaN</td>\n",
       "      <td>Motion</td>\n",
       "      <td>/gast/geschaefte/823</td>\n",
       "    </tr>\n",
       "    <tr>\n",
       "      <td>1982-12-16</td>\n",
       "      <td>1643</td>\n",
       "      <td>1223</td>\n",
       "      <td>Motion von Karl Betschart, Andrea Hodel und Be...</td>\n",
       "      <td>Andrea Hodel FDP</td>\n",
       "      <td>FDP</td>\n",
       "      <td>1982-12-16</td>\n",
       "      <td>Datenmigration</td>\n",
       "      <td>pdoc_656_1.pdf</td>\n",
       "      <td>NaN</td>\n",
       "      <td>Motion</td>\n",
       "      <td>/gast/geschaefte/823</td>\n",
       "    </tr>\n",
       "    <tr>\n",
       "      <td>1998-01-29</td>\n",
       "      <td>1655</td>\n",
       "      <td>1201</td>\n",
       "      <td>Motion der FDP-Fraktion betreffend Einführungs...</td>\n",
       "      <td>FDP-Fraktion FDP</td>\n",
       "      <td>FDP</td>\n",
       "      <td>1998-01-29</td>\n",
       "      <td>Datenmigration</td>\n",
       "      <td>pdoc_620_1.pdf</td>\n",
       "      <td>NaN</td>\n",
       "      <td>Motion</td>\n",
       "      <td>/gast/geschaefte/802</td>\n",
       "    </tr>\n",
       "    <tr>\n",
       "      <td>1998-10-27</td>\n",
       "      <td>1772</td>\n",
       "      <td>1016</td>\n",
       "      <td>Postulat von René Bär betreffend Ungültigerklä...</td>\n",
       "      <td>René Bär SVP</td>\n",
       "      <td>SVP</td>\n",
       "      <td>1998-10-27</td>\n",
       "      <td>Datenmigration</td>\n",
       "      <td>pdoc_131_1.pdf</td>\n",
       "      <td>NaN</td>\n",
       "      <td>Postulat</td>\n",
       "      <td>/gast/geschaefte/636</td>\n",
       "    </tr>\n",
       "    <tr>\n",
       "      <td>...</td>\n",
       "      <td>...</td>\n",
       "      <td>...</td>\n",
       "      <td>...</td>\n",
       "      <td>...</td>\n",
       "      <td>...</td>\n",
       "      <td>...</td>\n",
       "      <td>...</td>\n",
       "      <td>...</td>\n",
       "      <td>...</td>\n",
       "      <td>...</td>\n",
       "      <td>...</td>\n",
       "    </tr>\n",
       "    <tr>\n",
       "      <td>2019-11-06</td>\n",
       "      <td>6</td>\n",
       "      <td>3024</td>\n",
       "      <td>Interpellation von Claus Soltermann und Heinz ...</td>\n",
       "      <td>Heinz Achermann CVP</td>\n",
       "      <td>CVP</td>\n",
       "      <td>2019-11-06</td>\n",
       "      <td>Überweisung an Regierungsrat</td>\n",
       "      <td>3024-1-16179_Stadtbahn.pdf</td>\n",
       "      <td>Baudirektion</td>\n",
       "      <td>Interpellation</td>\n",
       "      <td>/gast/geschaefte/2012</td>\n",
       "    </tr>\n",
       "    <tr>\n",
       "      <td>2019-11-06</td>\n",
       "      <td>5</td>\n",
       "      <td>3024</td>\n",
       "      <td>Interpellation von Claus Soltermann und Heinz ...</td>\n",
       "      <td>Claus Soltermann GLP</td>\n",
       "      <td>GLP</td>\n",
       "      <td>2019-11-06</td>\n",
       "      <td>Überweisung an Regierungsrat</td>\n",
       "      <td>3024-1-16179_Stadtbahn.pdf</td>\n",
       "      <td>Baudirektion</td>\n",
       "      <td>Interpellation</td>\n",
       "      <td>/gast/geschaefte/2012</td>\n",
       "    </tr>\n",
       "    <tr>\n",
       "      <td>2019-11-24</td>\n",
       "      <td>2</td>\n",
       "      <td>3029</td>\n",
       "      <td>Interpellation der Fraktion Alternative - die ...</td>\n",
       "      <td>Alternative ALG</td>\n",
       "      <td>ALG</td>\n",
       "      <td>2019-11-24</td>\n",
       "      <td>Einreichung</td>\n",
       "      <td>3029-1-16189_Glencore.pdf</td>\n",
       "      <td>Volkswirtschaftsdirektion</td>\n",
       "      <td>Interpellation</td>\n",
       "      <td>/gast/geschaefte/2016</td>\n",
       "    </tr>\n",
       "    <tr>\n",
       "      <td>2019-11-26</td>\n",
       "      <td>1</td>\n",
       "      <td>3030</td>\n",
       "      <td>Motion der SVP-Fraktion betreffend Stärkung de...</td>\n",
       "      <td>SVP-Fraktion SVP</td>\n",
       "      <td>SVP</td>\n",
       "      <td>2019-11-26</td>\n",
       "      <td>Einreichung</td>\n",
       "      <td>3030-1-16190_Gewaltentrennung.pdf</td>\n",
       "      <td>NaN</td>\n",
       "      <td>Motion</td>\n",
       "      <td>/gast/geschaefte/2017</td>\n",
       "    </tr>\n",
       "    <tr>\n",
       "      <td>2019-11-26</td>\n",
       "      <td>0</td>\n",
       "      <td>3031</td>\n",
       "      <td>Interpellation der SVP-Fraktion betreffend Sic...</td>\n",
       "      <td>SVP-Fraktion SVP</td>\n",
       "      <td>SVP</td>\n",
       "      <td>2019-11-26</td>\n",
       "      <td>Einreichung</td>\n",
       "      <td>3031-1-16191_Neutralitaet_Schulen.pdf</td>\n",
       "      <td>Direktion für Bildung und Kultur</td>\n",
       "      <td>Interpellation</td>\n",
       "      <td>/gast/geschaefte/2018</td>\n",
       "    </tr>\n",
       "  </tbody>\n",
       "</table>\n",
       "<p>1088 rows × 11 columns</p>\n",
       "</div>"
      ],
      "text/plain": [
       "                Unnamed: 0  VorlageNR  \\\n",
       "Einreichedatum                          \n",
       "1982-12-16            1642       1223   \n",
       "1982-12-16            1644       1223   \n",
       "1982-12-16            1643       1223   \n",
       "1998-01-29            1655       1201   \n",
       "1998-10-27            1772       1016   \n",
       "...                    ...        ...   \n",
       "2019-11-06               6       3024   \n",
       "2019-11-06               5       3024   \n",
       "2019-11-24               2       3029   \n",
       "2019-11-26               1       3030   \n",
       "2019-11-26               0       3031   \n",
       "\n",
       "                                                         Geschäft  \\\n",
       "Einreichedatum                                                      \n",
       "1982-12-16      Motion von Karl Betschart, Andrea Hodel und Be...   \n",
       "1982-12-16      Motion von Karl Betschart, Andrea Hodel und Be...   \n",
       "1982-12-16      Motion von Karl Betschart, Andrea Hodel und Be...   \n",
       "1998-01-29      Motion der FDP-Fraktion betreffend Einführungs...   \n",
       "1998-10-27      Postulat von René Bär betreffend Ungültigerklä...   \n",
       "...                                                           ...   \n",
       "2019-11-06      Interpellation von Claus Soltermann und Heinz ...   \n",
       "2019-11-06      Interpellation von Claus Soltermann und Heinz ...   \n",
       "2019-11-24      Interpellation der Fraktion Alternative - die ...   \n",
       "2019-11-26      Motion der SVP-Fraktion betreffend Stärkung de...   \n",
       "2019-11-26      Interpellation der SVP-Fraktion betreffend Sic...   \n",
       "\n",
       "                           Namenganz    P Einreichedatum  \\\n",
       "Einreichedatum                                             \n",
       "1982-12-16         Beat Villiger CVP  CVP     1982-12-16   \n",
       "1982-12-16        Karl Betschart SVP  SVP     1982-12-16   \n",
       "1982-12-16          Andrea Hodel FDP  FDP     1982-12-16   \n",
       "1998-01-29          FDP-Fraktion FDP  FDP     1998-01-29   \n",
       "1998-10-27              René Bär SVP  SVP     1998-10-27   \n",
       "...                              ...  ...            ...   \n",
       "2019-11-06       Heinz Achermann CVP  CVP     2019-11-06   \n",
       "2019-11-06      Claus Soltermann GLP  GLP     2019-11-06   \n",
       "2019-11-24           Alternative ALG  ALG     2019-11-24   \n",
       "2019-11-26          SVP-Fraktion SVP  SVP     2019-11-26   \n",
       "2019-11-26          SVP-Fraktion SVP  SVP     2019-11-26   \n",
       "\n",
       "                                       Stand  \\\n",
       "Einreichedatum                                 \n",
       "1982-12-16                    Datenmigration   \n",
       "1982-12-16                    Datenmigration   \n",
       "1982-12-16                    Datenmigration   \n",
       "1998-01-29                    Datenmigration   \n",
       "1998-10-27                    Datenmigration   \n",
       "...                                      ...   \n",
       "2019-11-06      Überweisung an Regierungsrat   \n",
       "2019-11-06      Überweisung an Regierungsrat   \n",
       "2019-11-24                       Einreichung   \n",
       "2019-11-26                       Einreichung   \n",
       "2019-11-26                       Einreichung   \n",
       "\n",
       "                                    Link Vorstoss-PDF  \\\n",
       "Einreichedatum                                          \n",
       "1982-12-16                             pdoc_656_1.pdf   \n",
       "1982-12-16                             pdoc_656_1.pdf   \n",
       "1982-12-16                             pdoc_656_1.pdf   \n",
       "1998-01-29                             pdoc_620_1.pdf   \n",
       "1998-10-27                             pdoc_131_1.pdf   \n",
       "...                                               ...   \n",
       "2019-11-06                 3024-1-16179_Stadtbahn.pdf   \n",
       "2019-11-06                 3024-1-16179_Stadtbahn.pdf   \n",
       "2019-11-24                  3029-1-16189_Glencore.pdf   \n",
       "2019-11-26          3030-1-16190_Gewaltentrennung.pdf   \n",
       "2019-11-26      3031-1-16191_Neutralitaet_Schulen.pdf   \n",
       "\n",
       "                                   Zuständigkeit Art des Geschäfts  \\\n",
       "Einreichedatum                                                       \n",
       "1982-12-16                                   NaN            Motion   \n",
       "1982-12-16                                   NaN            Motion   \n",
       "1982-12-16                                   NaN            Motion   \n",
       "1998-01-29                                   NaN            Motion   \n",
       "1998-10-27                                   NaN          Postulat   \n",
       "...                                          ...               ...   \n",
       "2019-11-06                          Baudirektion    Interpellation   \n",
       "2019-11-06                          Baudirektion    Interpellation   \n",
       "2019-11-24             Volkswirtschaftsdirektion    Interpellation   \n",
       "2019-11-26                                   NaN            Motion   \n",
       "2019-11-26      Direktion für Bildung und Kultur    Interpellation   \n",
       "\n",
       "                                  url  \n",
       "Einreichedatum                         \n",
       "1982-12-16       /gast/geschaefte/823  \n",
       "1982-12-16       /gast/geschaefte/823  \n",
       "1982-12-16       /gast/geschaefte/823  \n",
       "1998-01-29       /gast/geschaefte/802  \n",
       "1998-10-27       /gast/geschaefte/636  \n",
       "...                               ...  \n",
       "2019-11-06      /gast/geschaefte/2012  \n",
       "2019-11-06      /gast/geschaefte/2012  \n",
       "2019-11-24      /gast/geschaefte/2016  \n",
       "2019-11-26      /gast/geschaefte/2017  \n",
       "2019-11-26      /gast/geschaefte/2018  \n",
       "\n",
       "[1088 rows x 11 columns]"
      ]
     },
     "execution_count": 12,
     "metadata": {},
     "output_type": "execute_result"
    }
   ],
   "source": [
    "df5"
   ]
  },
  {
   "cell_type": "markdown",
   "metadata": {},
   "source": [
    "# Ranking"
   ]
  },
  {
   "cell_type": "markdown",
   "metadata": {},
   "source": [
    "## Die Parteien"
   ]
  },
  {
   "cell_type": "code",
   "execution_count": 12,
   "metadata": {
    "scrolled": true
   },
   "outputs": [
    {
     "data": {
      "text/plain": [
       "CVP        195\n",
       "SVP        190\n",
       "SP         176\n",
       "ALG        167\n",
       "FDP        125\n",
       "GLP         42\n",
       "Piraten     21\n",
       "CSP         14\n",
       "pl           8\n",
       "Name: P, dtype: int64"
      ]
     },
     "execution_count": 12,
     "metadata": {},
     "output_type": "execute_result"
    }
   ],
   "source": [
    "#Anzahl Vorstösse der Parteien und ihren Mitgliedern. Seit 2005\n",
    "df5[\"P\"][\"2005\":].value_counts()"
   ]
  },
  {
   "cell_type": "code",
   "execution_count": 13,
   "metadata": {
    "scrolled": true
   },
   "outputs": [
    {
     "data": {
      "text/plain": [
       "CVP    195\n",
       "SVP    190\n",
       "SP     176\n",
       "ALG    167\n",
       "FDP    125\n",
       "Name: P, dtype: int64"
      ]
     },
     "execution_count": 13,
     "metadata": {},
     "output_type": "execute_result"
    }
   ],
   "source": [
    "df5[\"P\"][\"2005\":][~df5[\"P\"][\"2005\":].str.contains(\"GLP\")& ~df5[\"P\"][\"2005\":].str.contains(\"Piraten\")&~df5[\"P\"][\"2005\":].str.contains(\"CSP\")&~df5[\"P\"][\"2005\":].str.contains(\"pl\")].value_counts()"
   ]
  },
  {
   "cell_type": "code",
   "execution_count": 14,
   "metadata": {},
   "outputs": [
    {
     "data": {
      "text/plain": [
       "<matplotlib.axes._subplots.AxesSubplot at 0x1668f928668>"
      ]
     },
     "execution_count": 14,
     "metadata": {},
     "output_type": "execute_result"
    },
    {
     "data": {
      "image/png": "[encoded data removed]",
      "text/plain": [
       "<Figure size 432x288 with 1 Axes>"
      ]
     },
     "metadata": {
      "needs_background": "light"
     },
     "output_type": "display_data"
    }
   ],
   "source": [
    "df5[\"P\"][\"2005\":][~df5[\"P\"][\"2005\":].str.contains(\"GLP\")& ~df5[\"P\"][\"2005\":].str.contains(\"Piraten\")&~df5[\"P\"][\"2005\":].str.contains(\"CSP\")&~df5[\"P\"][\"2005\":].str.contains(\"pl\")].value_counts().plot(kind=\"bar\")"
   ]
  },
  {
   "cell_type": "code",
   "execution_count": 15,
   "metadata": {},
   "outputs": [
    {
     "data": {
      "text/plain": [
       "SVP        59\n",
       "ALG        47\n",
       "CVP        46\n",
       "SP         41\n",
       "FDP        30\n",
       "Piraten    21\n",
       "GLP        21\n",
       "pl          7\n",
       "CSP         2\n",
       "Name: P, dtype: int64"
      ]
     },
     "execution_count": 15,
     "metadata": {},
     "output_type": "execute_result"
    }
   ],
   "source": [
    "# Ranking der letzten Legislatur pro Partei\n",
    "df5[\"P\"][\"2015\":\"2018\"].value_counts()"
   ]
  },
  {
   "cell_type": "code",
   "execution_count": 16,
   "metadata": {
    "scrolled": true
   },
   "outputs": [
    {
     "data": {
      "text/plain": [
       "SVP    59\n",
       "ALG    47\n",
       "CVP    46\n",
       "SP     41\n",
       "FDP    30\n",
       "Name: P, dtype: int64"
      ]
     },
     "execution_count": 16,
     "metadata": {},
     "output_type": "execute_result"
    }
   ],
   "source": [
    "df5[\"P\"][\"2015\":\"2018\"][~df5[\"P\"][\"2015\":\"2018\"].str.contains(\"GLP\")& ~df5[\"P\"][\"2015\":\"2018\"].str.contains(\"Piraten\")&~df5[\"P\"][\"2015\":\"2018\"].str.contains(\"CSP\")&~df5[\"P\"][\"2015\":\"2018\"].str.contains(\"pl\")].value_counts()"
   ]
  },
  {
   "cell_type": "code",
   "execution_count": 17,
   "metadata": {},
   "outputs": [
    {
     "data": {
      "text/plain": [
       "<matplotlib.axes._subplots.AxesSubplot at 0x1668fcdbe48>"
      ]
     },
     "execution_count": 17,
     "metadata": {},
     "output_type": "execute_result"
    },
    {
     "data": {
      "image/png": "[encoded data removed]",
      "text/plain": [
       "<Figure size 432x288 with 1 Axes>"
      ]
     },
     "metadata": {
      "needs_background": "light"
     },
     "output_type": "display_data"
    }
   ],
   "source": [
    "df5[\"P\"][\"2015\":\"2018\"][~df5[\"P\"][\"2015\":\"2018\"].str.contains(\"GLP\")& ~df5[\"P\"][\"2015\":\"2018\"].str.contains(\"Piraten\")&~df5[\"P\"][\"2015\":\"2018\"].str.contains(\"CSP\")&~df5[\"P\"][\"2015\":\"2018\"].str.contains(\"pl\")].value_counts().plot(kind=\"bar\")"
   ]
  },
  {
   "cell_type": "code",
   "execution_count": 18,
   "metadata": {
    "scrolled": true
   },
   "outputs": [
    {
     "data": {
      "text/plain": [
       "SP     14\n",
       "SVP    13\n",
       "ALG    10\n",
       "CVP     9\n",
       "FDP     6\n",
       "GLP     5\n",
       "CSP     3\n",
       "Name: P, dtype: int64"
      ]
     },
     "execution_count": 18,
     "metadata": {},
     "output_type": "execute_result"
    }
   ],
   "source": [
    "df5[\"P\"][\"2019\"].value_counts() #Aktuelle Legislatur, erstes Jahr"
   ]
  },
  {
   "cell_type": "code",
   "execution_count": 19,
   "metadata": {},
   "outputs": [
    {
     "data": {
      "text/plain": [
       "SP     14\n",
       "SVP    13\n",
       "ALG    10\n",
       "CVP     9\n",
       "FDP     6\n",
       "Name: P, dtype: int64"
      ]
     },
     "execution_count": 19,
     "metadata": {},
     "output_type": "execute_result"
    }
   ],
   "source": [
    "df5[\"P\"][\"2019\"][~df5[\"P\"][\"2019\"].str.contains(\"GLP\")& ~df5[\"P\"][\"2019\"].str.contains(\"Piraten\")&~df5[\"P\"][\"2019\"].str.contains(\"CSP\")&~df5[\"P\"][\"2019\"].str.contains(\"pl\")].value_counts()"
   ]
  },
  {
   "cell_type": "code",
   "execution_count": 20,
   "metadata": {},
   "outputs": [
    {
     "data": {
      "text/plain": [
       "<matplotlib.axes._subplots.AxesSubplot at 0x1668fd61d30>"
      ]
     },
     "execution_count": 20,
     "metadata": {},
     "output_type": "execute_result"
    },
    {
     "data": {
      "image/png": "[encoded data removed]",
      "text/plain": [
       "<Figure size 432x288 with 1 Axes>"
      ]
     },
     "metadata": {
      "needs_background": "light"
     },
     "output_type": "display_data"
    }
   ],
   "source": [
    "df5[\"P\"][\"2019\"][~df5[\"P\"][\"2019\"].str.contains(\"GLP\")& ~df5[\"P\"][\"2019\"].str.contains(\"Piraten\")&~df5[\"P\"][\"2019\"].str.contains(\"CSP\")&~df5[\"P\"][\"2019\"].str.contains(\"pl\")].value_counts().plot(kind=\"bar\")"
   ]
  },
  {
   "cell_type": "code",
   "execution_count": 21,
   "metadata": {
    "scrolled": true
   },
   "outputs": [
    {
     "data": {
      "text/plain": [
       "CVP    29\n",
       "SP     25\n",
       "FDP    22\n",
       "ALG    21\n",
       "SVP    20\n",
       "CSP     4\n",
       "Name: P, dtype: int64"
      ]
     },
     "execution_count": 21,
     "metadata": {},
     "output_type": "execute_result"
    }
   ],
   "source": [
    "df5[\"P\"][\"01-07-2009\":\"2010\"].value_counts() #Wahlen 2010"
   ]
  },
  {
   "cell_type": "code",
   "execution_count": 22,
   "metadata": {
    "scrolled": false
   },
   "outputs": [
    {
     "data": {
      "text/plain": [
       "CVP    33\n",
       "SVP    30\n",
       "SP     28\n",
       "ALG    19\n",
       "FDP    15\n",
       "GLP     7\n",
       "Name: P, dtype: int64"
      ]
     },
     "execution_count": 22,
     "metadata": {},
     "output_type": "execute_result"
    }
   ],
   "source": [
    "df5[\"P\"][\"01-7-2013\":\"2014\"].value_counts() #Wahlen 14 (das letzte Halbjahr des Vorjahres und das Wahljahr)"
   ]
  },
  {
   "cell_type": "code",
   "execution_count": 23,
   "metadata": {
    "scrolled": false
   },
   "outputs": [
    {
     "data": {
      "text/plain": [
       "SVP    35\n",
       "ALG    28\n",
       "CVP    25\n",
       "SP     20\n",
       "FDP    18\n",
       "GLP     8\n",
       "pl      5\n",
       "CSP     2\n",
       "Name: P, dtype: int64"
      ]
     },
     "execution_count": 23,
     "metadata": {},
     "output_type": "execute_result"
    }
   ],
   "source": [
    "df5[\"P\"][\"01-7-2017\":\"2018\"].value_counts() # Wahlen 18: (das letzte Halbjahr des Vorjahres und das Wahljahr)"
   ]
  },
  {
   "cell_type": "markdown",
   "metadata": {},
   "source": [
    "## Kantonsräte und Fraktionen"
   ]
  },
  {
   "cell_type": "code",
   "execution_count": 43,
   "metadata": {
    "scrolled": true
   },
   "outputs": [
    {
     "data": {
      "text/plain": [
       "Alternative ALG                   88\n",
       "SP-Fraktion SP                    88\n",
       "SVP-Fraktion SVP                  66\n",
       "CVP-Fraktion CVP                  60\n",
       "FDP-Fraktion FDP                  31\n",
       "Daniel Stadlin GLP                28\n",
       "Philip C. Brunner SVP             23\n",
       "Jolanda Spiess-Hegglin Piraten    21\n",
       "Andreas Hausheer CVP              21\n",
       "Thomas Lötscher FDP               16\n",
       "Vroni Straub-Müller CSP           14\n",
       "Moritz Schmid SVP                 14\n",
       "Zari Dzaferi SP                   14\n",
       "Kurt Balmer CVP                   13\n",
       "Martin Stuber ALG                 13\n",
       "Silvan Hotz CVP                   12\n",
       "Andreas Lustenberger ALG          12\n",
       "Martin B. Lehmann SP              12\n",
       "Alois Gössi SP                    12\n",
       "Rudolf Balsiger FDP               12\n",
       "Manuel Brandenberg SVP            10\n",
       "Anna Lustenberger-Seitz ALG       10\n",
       "Eusebius Spescha SP                9\n",
       "Andreas Hürlimann ALG              9\n",
       "Beni Riedi SVP                     8\n",
       "Willi Vollenweider pl              7\n",
       "Hubert Schuler SP                  7\n",
       "Rainer Suter SVP                   7\n",
       "Manfred Wenger SVP                 7\n",
       "Stefan Gisler ALG                  6\n",
       "Stephan Schleiss SVP               6\n",
       "Esther Haas ALG                    6\n",
       "Thomas Werner SVP                  6\n",
       "Claus Soltermann GLP               6\n",
       "Vreni Wicky CVP                    6\n",
       "Florian Weber FDP                  6\n",
       "Laura Dittli CVP                   5\n",
       "Barbara Gysel SP                   5\n",
       "Werner Villiger SVP                5\n",
       "Bettina Egler SP                   5\n",
       "Eric Frischknecht ALG              5\n",
       "Franz Hürlimann CVP                5\n",
       "Franz Müller CVP                   5\n",
       "Daniel Burch FDP                   5\n",
       "Karl Nussbaumer SVP                4\n",
       "Pirmin Andermatt CVP               4\n",
       "Manuel Aeschbacher SVP             4\n",
       "Karen Umbach FDP                   4\n",
       "Thomas Rickenbacher CVP            4\n",
       "Markus Jans SP                     4\n",
       "Name: Namenganz, dtype: int64"
      ]
     },
     "execution_count": 43,
     "metadata": {},
     "output_type": "execute_result"
    }
   ],
   "source": [
    "df5[\"Namenganz\"][\"2005\":\"2019\"].value_counts().head(50)"
   ]
  },
  {
   "cell_type": "code",
   "execution_count": 42,
   "metadata": {},
   "outputs": [
    {
     "data": {
      "text/plain": [
       "(65,)"
      ]
     },
     "execution_count": 42,
     "metadata": {},
     "output_type": "execute_result"
    }
   ],
   "source": [
    "# Die Top Namen der letzten Legislatur\n",
    "df5[\"Namenganz\"][\"2015\":\"2018\"].value_counts()"
   ]
  },
  {
   "cell_type": "code",
   "execution_count": 36,
   "metadata": {
    "scrolled": true
   },
   "outputs": [
    {
     "data": {
      "text/plain": [
       "Alternative ALG             15\n",
       "SP-Fraktion SP              13\n",
       "SVP-Fraktion SVP            12\n",
       "Philip C. Brunner SVP        9\n",
       "CVP-Fraktion CVP             7\n",
       "FDP-Fraktion FDP             5\n",
       "Willi Vollenweider pl        5\n",
       "Karen Umbach FDP             4\n",
       "Andreas Lustenberger ALG     4\n",
       "Zari Dzaferi SP              4\n",
       "Daniel Stadlin GLP           4\n",
       "Pirmin Andermatt CVP         3\n",
       "Rita Hofer ALG               3\n",
       "Thomas Werner SVP            3\n",
       "Laura Dittli CVP             3\n",
       "Esther Haas ALG              3\n",
       "Manuel Brandenberg SVP       2\n",
       "Claus Soltermann GLP         2\n",
       "Florian Weber FDP            2\n",
       "Hans Baumgartner CVP         2\n",
       "Moritz Schmid SVP            2\n",
       "Andreas Hürlimann ALG        2\n",
       "Andreas Hausheer CVP         2\n",
       "Rainer Suter SVP             2\n",
       "Beni Riedi SVP               2\n",
       "Name: Namenganz, dtype: int64"
      ]
     },
     "execution_count": 36,
     "metadata": {},
     "output_type": "execute_result"
    }
   ],
   "source": [
    "# Die Top-17 der einreichenden vor den letzten kantonalen Wahlen\n",
    "df5[\"Namenganz\"][\"2017\":\"2018\"].value_counts().head(25)\n"
   ]
  },
  {
   "cell_type": "code",
   "execution_count": 80,
   "metadata": {},
   "outputs": [
    {
     "data": {
      "text/plain": [
       "SP-Fraktion SP              8\n",
       "SVP-Fraktion SVP            7\n",
       "CVP-Fraktion CVP            5\n",
       "Vroni Straub-Müller CSP     3\n",
       "Philip C. Brunner SVP       3\n",
       "Claus Soltermann GLP        3\n",
       "Andreas Lustenberger ALG    2\n",
       "Rainer Suter SVP            2\n",
       "FDP-Fraktion FDP            2\n",
       "Zari Dzaferi SP             2\n",
       "Drin Alaj SP                2\n",
       "Daniel Stadlin GLP          2\n",
       "Alternative ALG             2\n",
       "Ivo Egger ALG               1\n",
       "Manuela Leemann CVP         1\n",
       "Heinz Achermann CVP         1\n",
       "Stéphanie Vuichard ALG      1\n",
       "Michael Arnold FDP          1\n",
       "Alois Gössi SP              1\n",
       "Laura Dittli CVP            1\n",
       "Anastas Odermatt ALG        1\n",
       "Rita Hofer ALG              1\n",
       "Pirmin Andermatt CVP        1\n",
       "Thomas Gander FDP           1\n",
       "Helene Zimmermann FDP       1\n",
       "Name: Namenganz, dtype: int64"
      ]
     },
     "execution_count": 80,
     "metadata": {},
     "output_type": "execute_result"
    }
   ],
   "source": [
    "# Die Top 25 der ersten Jahres der ersten Legislatur - neue raussuchen.\n",
    "df5[\"Namenganz\"][\"2019\"].value_counts().head(25)"
   ]
  },
  {
   "cell_type": "markdown",
   "metadata": {},
   "source": [
    "# Die Ergebnisse der einzelnen Parteien\n",
    "Jedoch noch einzeln"
   ]
  },
  {
   "cell_type": "code",
   "execution_count": 37,
   "metadata": {
    "scrolled": true
   },
   "outputs": [
    {
     "data": {
      "text/plain": [
       "<matplotlib.axes._subplots.AxesSubplot at 0x220a71b9c88>"
      ]
     },
     "execution_count": 37,
     "metadata": {},
     "output_type": "execute_result"
    },
    {
     "data": {
      "image/png": "[encoded data removed]",
      "text/plain": [
       "<Figure size 432x288 with 1 Axes>"
      ]
     },
     "metadata": {
      "needs_background": "light"
     },
     "output_type": "display_data"
    }
   ],
   "source": [
    "dfalg=df5[df5[\"P\"].str.contains(\"ALG\")]\n",
    "dfalgz=dfalg[[\"Geschäft\"]]\n",
    "dfalgz[\"2006\":].resample(\"A\").count().plot()"
   ]
  },
  {
   "cell_type": "code",
   "execution_count": 38,
   "metadata": {
    "scrolled": true
   },
   "outputs": [
    {
     "data": {
      "text/plain": [
       "<matplotlib.axes._subplots.AxesSubplot at 0x220a7260f98>"
      ]
     },
     "execution_count": 38,
     "metadata": {},
     "output_type": "execute_result"
    },
    {
     "data": {
      "image/png": "[encoded data removed]",
      "text/plain": [
       "<Figure size 432x288 with 1 Axes>"
      ]
     },
     "metadata": {
      "needs_background": "light"
     },
     "output_type": "display_data"
    }
   ],
   "source": [
    "dfalgz[\"2006\":].resample(\"A\").count().plot(kind=\"bar\")"
   ]
  },
  {
   "cell_type": "code",
   "execution_count": 69,
   "metadata": {},
   "outputs": [
    {
     "data": {
      "text/plain": [
       "<matplotlib.axes._subplots.AxesSubplot at 0x220a9428cc0>"
      ]
     },
     "execution_count": 69,
     "metadata": {},
     "output_type": "execute_result"
    },
    {
     "data": {
      "image/png": "[encoded data removed]",
      "text/plain": [
       "<Figure size 720x360 with 1 Axes>"
      ]
     },
     "metadata": {
      "needs_background": "light"
     },
     "output_type": "display_data"
    }
   ],
   "source": [
    "dfalgz[\"2009\":].resample(\"Q\").count().plot(kind=\"bar\", figsize=(10,5))"
   ]
  },
  {
   "cell_type": "code",
   "execution_count": 40,
   "metadata": {},
   "outputs": [
    {
     "data": {
      "text/plain": [
       "<matplotlib.axes._subplots.AxesSubplot at 0x220a7410898>"
      ]
     },
     "execution_count": 40,
     "metadata": {},
     "output_type": "execute_result"
    },
    {
     "data": {
      "image/png": "[encoded data removed]",
      "text/plain": [
       "<Figure size 432x288 with 1 Axes>"
      ]
     },
     "metadata": {
      "needs_background": "light"
     },
     "output_type": "display_data"
    }
   ],
   "source": [
    "dfsvp=df5[df5[\"P\"].str.contains(\"SVP\")]\n",
    "dfsvpz=dfsvp[[\"Geschäft\"]]\n",
    "dfsvpz[\"2006\":].resample(\"A\").count().plot()"
   ]
  },
  {
   "cell_type": "code",
   "execution_count": 41,
   "metadata": {
    "scrolled": true
   },
   "outputs": [
    {
     "data": {
      "text/plain": [
       "<matplotlib.axes._subplots.AxesSubplot at 0x220a74cb860>"
      ]
     },
     "execution_count": 41,
     "metadata": {},
     "output_type": "execute_result"
    },
    {
     "data": {
      "image/png": "[encoded data removed]",
      "text/plain": [
       "<Figure size 432x288 with 1 Axes>"
      ]
     },
     "metadata": {
      "needs_background": "light"
     },
     "output_type": "display_data"
    }
   ],
   "source": [
    "dfsvpz[\"2006\":].resample(\"A\").count().plot(kind=\"bar\")"
   ]
  },
  {
   "cell_type": "code",
   "execution_count": 70,
   "metadata": {},
   "outputs": [
    {
     "data": {
      "text/plain": [
       "<matplotlib.axes._subplots.AxesSubplot at 0x220a95b6c18>"
      ]
     },
     "execution_count": 70,
     "metadata": {},
     "output_type": "execute_result"
    },
    {
     "data": {
      "image/png": "[encoded data removed]",
      "text/plain": [
       "<Figure size 720x360 with 1 Axes>"
      ]
     },
     "metadata": {
      "needs_background": "light"
     },
     "output_type": "display_data"
    }
   ],
   "source": [
    "dfsvpz[\"2009\":].resample(\"Q\").count().plot(kind=\"bar\", figsize=(10,5))"
   ]
  },
  {
   "cell_type": "code",
   "execution_count": 43,
   "metadata": {
    "scrolled": true
   },
   "outputs": [
    {
     "data": {
      "text/plain": [
       "<matplotlib.axes._subplots.AxesSubplot at 0x220a76795c0>"
      ]
     },
     "execution_count": 43,
     "metadata": {},
     "output_type": "execute_result"
    },
    {
     "data": {
      "image/png": "[encoded data removed]",
      "text/plain": [
       "<Figure size 432x288 with 1 Axes>"
      ]
     },
     "metadata": {
      "needs_background": "light"
     },
     "output_type": "display_data"
    }
   ],
   "source": [
    "dfcvp=df5[df5[\"P\"].str.contains(\"CVP\")]\n",
    "dfcvpz=dfcvp[[\"Geschäft\"]]\n",
    "dfcvpz[\"2006\":].resample(\"A\").count().plot()"
   ]
  },
  {
   "cell_type": "code",
   "execution_count": 44,
   "metadata": {
    "scrolled": true
   },
   "outputs": [
    {
     "data": {
      "text/plain": [
       "<matplotlib.axes._subplots.AxesSubplot at 0x220a7702080>"
      ]
     },
     "execution_count": 44,
     "metadata": {},
     "output_type": "execute_result"
    },
    {
     "data": {
      "image/png": "[encoded data removed]",
      "text/plain": [
       "<Figure size 432x288 with 1 Axes>"
      ]
     },
     "metadata": {
      "needs_background": "light"
     },
     "output_type": "display_data"
    }
   ],
   "source": [
    "dfcvpz[\"2006\":].resample(\"A\").count().plot(kind=\"bar\")"
   ]
  },
  {
   "cell_type": "code",
   "execution_count": 71,
   "metadata": {},
   "outputs": [
    {
     "data": {
      "text/plain": [
       "<matplotlib.axes._subplots.AxesSubplot at 0x220a9868860>"
      ]
     },
     "execution_count": 71,
     "metadata": {},
     "output_type": "execute_result"
    },
    {
     "data": {
      "image/png": "[encoded data removed]",
      "text/plain": [
       "<Figure size 720x360 with 1 Axes>"
      ]
     },
     "metadata": {
      "needs_background": "light"
     },
     "output_type": "display_data"
    }
   ],
   "source": [
    "dfcvpz[\"2006\":].resample(\"Q\").count().plot(kind=\"bar\", figsize=(10,5))"
   ]
  },
  {
   "cell_type": "code",
   "execution_count": 45,
   "metadata": {
    "scrolled": true
   },
   "outputs": [
    {
     "data": {
      "text/plain": [
       "<matplotlib.axes._subplots.AxesSubplot at 0x220a77806a0>"
      ]
     },
     "execution_count": 45,
     "metadata": {},
     "output_type": "execute_result"
    },
    {
     "data": {
      "image/png": "[encoded data removed]",
      "text/plain": [
       "<Figure size 432x288 with 1 Axes>"
      ]
     },
     "metadata": {
      "needs_background": "light"
     },
     "output_type": "display_data"
    }
   ],
   "source": [
    "dffdp=df5[df5[\"P\"].str.contains(\"FDP\")]\n",
    "dffdpz=dffdp[[\"Geschäft\"]]\n",
    "dffdpz[\"2006\":].resample(\"A\").count().plot()"
   ]
  },
  {
   "cell_type": "code",
   "execution_count": 46,
   "metadata": {},
   "outputs": [
    {
     "data": {
      "text/plain": [
       "<matplotlib.axes._subplots.AxesSubplot at 0x220a7823e48>"
      ]
     },
     "execution_count": 46,
     "metadata": {},
     "output_type": "execute_result"
    },
    {
     "data": {
      "image/png": "[encoded data removed]",
      "text/plain": [
       "<Figure size 432x288 with 1 Axes>"
      ]
     },
     "metadata": {
      "needs_background": "light"
     },
     "output_type": "display_data"
    }
   ],
   "source": [
    "dffdpz[\"2006\":].resample(\"A\").count().plot(kind=\"bar\")"
   ]
  },
  {
   "cell_type": "code",
   "execution_count": 72,
   "metadata": {},
   "outputs": [
    {
     "data": {
      "text/plain": [
       "<matplotlib.axes._subplots.AxesSubplot at 0x220a99fc358>"
      ]
     },
     "execution_count": 72,
     "metadata": {},
     "output_type": "execute_result"
    },
    {
     "data": {
      "image/png": "[encoded data removed]",
      "text/plain": [
       "<Figure size 720x360 with 1 Axes>"
      ]
     },
     "metadata": {
      "needs_background": "light"
     },
     "output_type": "display_data"
    }
   ],
   "source": [
    "dffdpz[\"2006\":].resample(\"Q\").count().plot(kind=\"bar\", figsize=(10,5))"
   ]
  },
  {
   "cell_type": "code",
   "execution_count": 47,
   "metadata": {},
   "outputs": [
    {
     "data": {
      "text/plain": [
       "<matplotlib.axes._subplots.AxesSubplot at 0x220a78c69e8>"
      ]
     },
     "execution_count": 47,
     "metadata": {},
     "output_type": "execute_result"
    },
    {
     "data": {
      "image/png": "[encoded data removed]",
      "text/plain": [
       "<Figure size 432x288 with 1 Axes>"
      ]
     },
     "metadata": {
      "needs_background": "light"
     },
     "output_type": "display_data"
    }
   ],
   "source": [
    "dfsp=df5[df5[\"P\"].str.contains(\"SP\")]\n",
    "dfspz=dfsp[[\"Geschäft\"]]\n",
    "dfspz[\"2006\":].resample(\"A\").count().plot()"
   ]
  },
  {
   "cell_type": "code",
   "execution_count": 48,
   "metadata": {
    "scrolled": true
   },
   "outputs": [
    {
     "data": {
      "text/plain": [
       "<matplotlib.axes._subplots.AxesSubplot at 0x220a7940a90>"
      ]
     },
     "execution_count": 48,
     "metadata": {},
     "output_type": "execute_result"
    },
    {
     "data": {
      "image/png": "[encoded data removed]",
      "text/plain": [
       "<Figure size 432x288 with 1 Axes>"
      ]
     },
     "metadata": {
      "needs_background": "light"
     },
     "output_type": "display_data"
    }
   ],
   "source": [
    "dfspz[\"2006\":].resample(\"A\").count().plot(kind=\"bar\")"
   ]
  },
  {
   "cell_type": "code",
   "execution_count": 73,
   "metadata": {},
   "outputs": [
    {
     "data": {
      "text/plain": [
       "<matplotlib.axes._subplots.AxesSubplot at 0x220aab509e8>"
      ]
     },
     "execution_count": 73,
     "metadata": {},
     "output_type": "execute_result"
    },
    {
     "data": {
      "image/png": "[encoded data removed]",
      "text/plain": [
       "<Figure size 720x360 with 1 Axes>"
      ]
     },
     "metadata": {
      "needs_background": "light"
     },
     "output_type": "display_data"
    }
   ],
   "source": [
    "dfspz[\"2006\":].resample(\"Q\").count().plot(kind=\"bar\", figsize=(10,5))"
   ]
  },
  {
   "cell_type": "markdown",
   "metadata": {},
   "source": [
    "# Nun müsste ich diese zusammenführen\n",
    "aber wie nur - geht es wenn ich die Frames einzeln abspeichere?"
   ]
  },
  {
   "cell_type": "code",
   "execution_count": 76,
   "metadata": {},
   "outputs": [],
   "source": [
    "cvp=dfcvpz[\"2005\":].resample(\"A\").count()\n",
    "fdp=dffdpz[\"2005\":].resample(\"A\").count()\n",
    "svp=dfsvpz[\"2005\":].resample(\"A\").count()\n",
    "sp=dfspz[\"2005\":].resample(\"A\").count()\n",
    "alg=dfalgz[\"2005\":].resample(\"A\").count()"
   ]
  },
  {
   "cell_type": "code",
   "execution_count": 77,
   "metadata": {
    "scrolled": true
   },
   "outputs": [
    {
     "data": {
      "text/plain": [
       "<matplotlib.axes._subplots.AxesSubplot at 0x220aad3fc88>"
      ]
     },
     "execution_count": 77,
     "metadata": {},
     "output_type": "execute_result"
    },
    {
     "data": {
      "image/png": "[encoded data removed]",
      "text/plain": [
       "<Figure size 720x288 with 1 Axes>"
      ]
     },
     "metadata": {
      "needs_background": "light"
     },
     "output_type": "display_data"
    }
   ],
   "source": [
    "ax = cvp.plot()\n",
    "fdp.plot(ax=ax, figsize=(10,4)) #zwei zusammen. ok vielleicht noch mit unstack"
   ]
  },
  {
   "cell_type": "markdown",
   "metadata": {},
   "source": [
    "# Alle miteinander plotten\n",
    "Dazu versuche ich die Parteien zu Columns zu machen und das Datum wieder als Zeile"
   ]
  },
  {
   "cell_type": "code",
   "execution_count": 51,
   "metadata": {},
   "outputs": [],
   "source": [
    "# Ich versuche es mal mit en parteien einzeln\n",
    "df_umgekehrt_m=df5.groupby(\"P\").resample(\"M\").count().unstack()\n",
    "df_umgekehrt_q=df5.groupby(\"P\").resample(\"Q\").count().unstack()\n",
    "df_umgekehrt_a=df5.groupby(\"P\").resample(\"A\").count().unstack()\n",
    "df_umge=df_umgekehrt_a[[\"Unnamed: 0\"]] #hier kann ich nun wähen welches DF. also wie resamplet\n",
    "df_swi=df_umge.T #hier mache ich die Zeilen zu Spalten und umgekehrt.\n",
    "df_swit=df_swi.reset_index(level=1)#ich muss irgendwie wieder den Datetime-Index haben\n",
    "df_7=df_swit.set_index(pd.DatetimeIndex(df_swit[\"Einreichedatum\"]))\n",
    "df8=df_7.sort_index()"
   ]
  },
  {
   "cell_type": "code",
   "execution_count": 52,
   "metadata": {},
   "outputs": [],
   "source": [
    "del df8 [\"Einreichedatum\"]\n",
    "del df8 [\"CSP\"]\n",
    "del df8 [\"SGA\"]\n",
    "del df8 [\"pl\"]\n",
    "del df8 [\"GLP\"]"
   ]
  },
  {
   "cell_type": "code",
   "execution_count": 53,
   "metadata": {},
   "outputs": [],
   "source": [
    "del df8 [\"Piraten\"]"
   ]
  },
  {
   "cell_type": "code",
   "execution_count": 54,
   "metadata": {
    "scrolled": true
   },
   "outputs": [
    {
     "data": {
      "text/plain": [
       "<matplotlib.axes._subplots.AxesSubplot at 0x220a7a71940>"
      ]
     },
     "execution_count": 54,
     "metadata": {},
     "output_type": "execute_result"
    },
    {
     "data": {
      "image/png": "[encoded data removed]",
      "text/plain": [
       "<Figure size 864x360 with 1 Axes>"
      ]
     },
     "metadata": {
      "needs_background": "light"
     },
     "output_type": "display_data"
    }
   ],
   "source": [
    "df8[\"2005\":].plot(figsize=(12,5))"
   ]
  },
  {
   "cell_type": "code",
   "execution_count": 55,
   "metadata": {
    "scrolled": true
   },
   "outputs": [
    {
     "data": {
      "text/plain": [
       "<matplotlib.axes._subplots.AxesSubplot at 0x220a7c628d0>"
      ]
     },
     "execution_count": 55,
     "metadata": {},
     "output_type": "execute_result"
    },
    {
     "data": {
      "image/png": "[encoded data removed]",
      "text/plain": [
       "<Figure size 1080x288 with 1 Axes>"
      ]
     },
     "metadata": {
      "needs_background": "light"
     },
     "output_type": "display_data"
    }
   ],
   "source": [
    "df8[\"2005\":].plot(figsize=(15,4), kind=\"bar\")"
   ]
  },
  {
   "cell_type": "code",
   "execution_count": 57,
   "metadata": {
    "scrolled": true
   },
   "outputs": [
    {
     "data": {
      "text/plain": [
       "array([<matplotlib.axes._subplots.AxesSubplot object at 0x00000220A8F6AAC8>,\n",
       "       <matplotlib.axes._subplots.AxesSubplot object at 0x00000220A8FA8160>,\n",
       "       <matplotlib.axes._subplots.AxesSubplot object at 0x00000220A8FD95C0>,\n",
       "       <matplotlib.axes._subplots.AxesSubplot object at 0x00000220A900BA20>,\n",
       "       <matplotlib.axes._subplots.AxesSubplot object at 0x00000220A903CE80>],\n",
       "      dtype=object)"
      ]
     },
     "execution_count": 57,
     "metadata": {},
     "output_type": "execute_result"
    },
    {
     "data": {
      "image/png": "[encoded data removed]",
      "text/plain": [
       "<Figure size 504x432 with 5 Axes>"
      ]
     },
     "metadata": {
      "needs_background": "light"
     },
     "output_type": "display_data"
    }
   ],
   "source": [
    "df8[\"2005\":].plot(subplots=True, figsize=(7,6))"
   ]
  },
  {
   "cell_type": "markdown",
   "metadata": {},
   "source": [
    "# Parteien in den Quartale vor Wahlen"
   ]
  },
  {
   "cell_type": "code",
   "execution_count": 58,
   "metadata": {},
   "outputs": [],
   "source": [
    "df1_umgekehrt_m=df5.groupby(\"P\").resample(\"M\").count().unstack()\n",
    "df1_umgekehrt_q=df5.groupby(\"P\").resample(\"Q\").count().unstack()\n",
    "df1_umgekehrt_a=df5.groupby(\"P\").resample(\"A\").count().unstack()\n",
    "df1_umge=df1_umgekehrt_q[[\"Unnamed: 0\"]]\n",
    "df1_swi=df1_umge.T #hier mache ich die Zeilen zu Spalten und umgekehrt."
   ]
  },
  {
   "cell_type": "code",
   "execution_count": 59,
   "metadata": {},
   "outputs": [],
   "source": [
    "df1_swit=df1_swi.reset_index(level=1)#ich muss irgendwie wieder den Datetime-Index haben\n",
    "df_71=df1_swit.set_index(pd.DatetimeIndex(df1_swit[\"Einreichedatum\"]))\n",
    "df81=df_71.sort_index()"
   ]
  },
  {
   "cell_type": "code",
   "execution_count": 60,
   "metadata": {},
   "outputs": [],
   "source": [
    "del df81 [\"Einreichedatum\"]\n",
    "del df81 [\"CSP\"]\n",
    "del df81 [\"SGA\"]\n",
    "del df81 [\"pl\"]\n",
    "\n",
    "del df81 [\"Piraten\"]"
   ]
  },
  {
   "cell_type": "code",
   "execution_count": 61,
   "metadata": {},
   "outputs": [
    {
     "data": {
      "text/html": [
       "<div>\n",
       "<style scoped>\n",
       "    .dataframe tbody tr th:only-of-type {\n",
       "        vertical-align: middle;\n",
       "    }\n",
       "\n",
       "    .dataframe tbody tr th {\n",
       "        vertical-align: top;\n",
       "    }\n",
       "\n",
       "    .dataframe thead th {\n",
       "        text-align: right;\n",
       "    }\n",
       "</style>\n",
       "<table border=\"1\" class=\"dataframe\">\n",
       "  <thead>\n",
       "    <tr style=\"text-align: right;\">\n",
       "      <th>P</th>\n",
       "      <th>ALG</th>\n",
       "      <th>CVP</th>\n",
       "      <th>FDP</th>\n",
       "      <th>GLP</th>\n",
       "      <th>SP</th>\n",
       "      <th>SVP</th>\n",
       "    </tr>\n",
       "    <tr>\n",
       "      <th>Einreichedatum</th>\n",
       "      <th></th>\n",
       "      <th></th>\n",
       "      <th></th>\n",
       "      <th></th>\n",
       "      <th></th>\n",
       "      <th></th>\n",
       "    </tr>\n",
       "  </thead>\n",
       "  <tbody>\n",
       "    <tr>\n",
       "      <td>1982-12-31</td>\n",
       "      <td>NaN</td>\n",
       "      <td>1.0</td>\n",
       "      <td>1.0</td>\n",
       "      <td>NaN</td>\n",
       "      <td>NaN</td>\n",
       "      <td>1.0</td>\n",
       "    </tr>\n",
       "    <tr>\n",
       "      <td>1983-03-31</td>\n",
       "      <td>NaN</td>\n",
       "      <td>0.0</td>\n",
       "      <td>0.0</td>\n",
       "      <td>NaN</td>\n",
       "      <td>NaN</td>\n",
       "      <td>0.0</td>\n",
       "    </tr>\n",
       "    <tr>\n",
       "      <td>1983-06-30</td>\n",
       "      <td>NaN</td>\n",
       "      <td>0.0</td>\n",
       "      <td>0.0</td>\n",
       "      <td>NaN</td>\n",
       "      <td>NaN</td>\n",
       "      <td>0.0</td>\n",
       "    </tr>\n",
       "    <tr>\n",
       "      <td>1983-09-30</td>\n",
       "      <td>NaN</td>\n",
       "      <td>0.0</td>\n",
       "      <td>0.0</td>\n",
       "      <td>NaN</td>\n",
       "      <td>NaN</td>\n",
       "      <td>0.0</td>\n",
       "    </tr>\n",
       "    <tr>\n",
       "      <td>1983-12-31</td>\n",
       "      <td>NaN</td>\n",
       "      <td>0.0</td>\n",
       "      <td>0.0</td>\n",
       "      <td>NaN</td>\n",
       "      <td>NaN</td>\n",
       "      <td>0.0</td>\n",
       "    </tr>\n",
       "    <tr>\n",
       "      <td>...</td>\n",
       "      <td>...</td>\n",
       "      <td>...</td>\n",
       "      <td>...</td>\n",
       "      <td>...</td>\n",
       "      <td>...</td>\n",
       "      <td>...</td>\n",
       "    </tr>\n",
       "    <tr>\n",
       "      <td>2018-12-31</td>\n",
       "      <td>1.0</td>\n",
       "      <td>2.0</td>\n",
       "      <td>1.0</td>\n",
       "      <td>0.0</td>\n",
       "      <td>3.0</td>\n",
       "      <td>2.0</td>\n",
       "    </tr>\n",
       "    <tr>\n",
       "      <td>2019-03-31</td>\n",
       "      <td>3.0</td>\n",
       "      <td>1.0</td>\n",
       "      <td>1.0</td>\n",
       "      <td>2.0</td>\n",
       "      <td>2.0</td>\n",
       "      <td>5.0</td>\n",
       "    </tr>\n",
       "    <tr>\n",
       "      <td>2019-06-30</td>\n",
       "      <td>5.0</td>\n",
       "      <td>4.0</td>\n",
       "      <td>2.0</td>\n",
       "      <td>1.0</td>\n",
       "      <td>7.0</td>\n",
       "      <td>4.0</td>\n",
       "    </tr>\n",
       "    <tr>\n",
       "      <td>2019-09-30</td>\n",
       "      <td>1.0</td>\n",
       "      <td>3.0</td>\n",
       "      <td>3.0</td>\n",
       "      <td>1.0</td>\n",
       "      <td>4.0</td>\n",
       "      <td>1.0</td>\n",
       "    </tr>\n",
       "    <tr>\n",
       "      <td>2019-12-31</td>\n",
       "      <td>1.0</td>\n",
       "      <td>1.0</td>\n",
       "      <td>NaN</td>\n",
       "      <td>1.0</td>\n",
       "      <td>1.0</td>\n",
       "      <td>3.0</td>\n",
       "    </tr>\n",
       "  </tbody>\n",
       "</table>\n",
       "<p>149 rows × 6 columns</p>\n",
       "</div>"
      ],
      "text/plain": [
       "P               ALG  CVP  FDP  GLP   SP  SVP\n",
       "Einreichedatum                              \n",
       "1982-12-31      NaN  1.0  1.0  NaN  NaN  1.0\n",
       "1983-03-31      NaN  0.0  0.0  NaN  NaN  0.0\n",
       "1983-06-30      NaN  0.0  0.0  NaN  NaN  0.0\n",
       "1983-09-30      NaN  0.0  0.0  NaN  NaN  0.0\n",
       "1983-12-31      NaN  0.0  0.0  NaN  NaN  0.0\n",
       "...             ...  ...  ...  ...  ...  ...\n",
       "2018-12-31      1.0  2.0  1.0  0.0  3.0  2.0\n",
       "2019-03-31      3.0  1.0  1.0  2.0  2.0  5.0\n",
       "2019-06-30      5.0  4.0  2.0  1.0  7.0  4.0\n",
       "2019-09-30      1.0  3.0  3.0  1.0  4.0  1.0\n",
       "2019-12-31      1.0  1.0  NaN  1.0  1.0  3.0\n",
       "\n",
       "[149 rows x 6 columns]"
      ]
     },
     "execution_count": 61,
     "metadata": {},
     "output_type": "execute_result"
    }
   ],
   "source": [
    "df81"
   ]
  },
  {
   "cell_type": "code",
   "execution_count": 62,
   "metadata": {},
   "outputs": [],
   "source": [
    "del df81 [\"GLP\"]"
   ]
  },
  {
   "cell_type": "code",
   "execution_count": null,
   "metadata": {},
   "outputs": [],
   "source": []
  },
  {
   "cell_type": "code",
   "execution_count": 64,
   "metadata": {},
   "outputs": [
    {
     "data": {
      "text/plain": [
       "<matplotlib.axes._subplots.AxesSubplot at 0x220a918ecc0>"
      ]
     },
     "execution_count": 64,
     "metadata": {},
     "output_type": "execute_result"
    },
    {
     "data": {
      "image/png": "[encoded data removed]",
      "text/plain": [
       "<Figure size 864x360 with 1 Axes>"
      ]
     },
     "metadata": {
      "needs_background": "light"
     },
     "output_type": "display_data"
    }
   ],
   "source": [
    "df81[\"2007\":\"2008\"].plot(figsize=(12,5))"
   ]
  },
  {
   "cell_type": "code",
   "execution_count": 65,
   "metadata": {},
   "outputs": [],
   "source": [
    "# Ich versuche es mal mit en parteien einzeln\n",
    "df2_umgekehrt_m=df5.groupby(\"Stand\").resample(\"M\").count().unstack()\n",
    "df2_umgekehrt_q=df5.groupby(\"Stand\").resample(\"Q\").count().unstack()\n",
    "df2_umgekehrt_a=df5.groupby(\"Stand\").resample(\"A\").count().unstack()\n",
    "df2_umge=df2_umgekehrt_q[[\"Unnamed: 0\"]] #hier kann ich nun wähen welches DF. also wie resamplet\n",
    "df2_swi=df2_umge.T #hier mache ich die Zeilen zu Spalten und umgekehrt.\n",
    "df2_swit=df2_swi.reset_index(level=1)#ich muss irgendwie wieder den Datetime-Index haben\n",
    "df2_7=df2_swit.set_index(pd.DatetimeIndex(df2_swit[\"Einreichedatum\"]))\n",
    "df28=df2_7.sort_index()\n",
    "del df28 [\"Einreichedatum\"]\n",
    "del df28 [\"Einreichung\"]\n",
    "del df28 [\"Erledigterklärung\"]\n",
    "del df28 [\"Datenmigration\"]\n",
    "del df28 [\"Erheblicherklärung\"]\n",
    "del df28 [\"Überweisung an Regierungsrat\"]"
   ]
  },
  {
   "cell_type": "code",
   "execution_count": 67,
   "metadata": {},
   "outputs": [
    {
     "data": {
      "text/plain": [
       "<matplotlib.axes._subplots.AxesSubplot at 0x22cecd71b70>"
      ]
     },
     "execution_count": 67,
     "metadata": {},
     "output_type": "execute_result"
    },
    {
     "data": {
      "image/png": "[encoded data removed]",
      "text/plain": [
       "<Figure size 1080x504 with 1 Axes>"
      ]
     },
     "metadata": {
      "needs_background": "light"
     },
     "output_type": "display_data"
    }
   ],
   "source": [
    "df28[\"2013\":\"2019\"].plot(figsize=(15,7)) #So sieht es betreffend Status aus"
   ]
  },
  {
   "cell_type": "code",
   "execution_count": 14,
   "metadata": {},
   "outputs": [
    {
     "ename": "ValueError",
     "evalue": "cannot index with vector containing NA / NaN values",
     "output_type": "error",
     "traceback": [
      "\u001b[1;31m---------------------------------------------------------------------------\u001b[0m",
      "\u001b[1;31mValueError\u001b[0m                                Traceback (most recent call last)",
      "\u001b[1;32m<ipython-input-14-e91e8a7b1181>\u001b[0m in \u001b[0;36m<module>\u001b[1;34m\u001b[0m\n\u001b[1;32m----> 1\u001b[1;33m \u001b[0mdf5\u001b[0m\u001b[1;33m[\u001b[0m\u001b[0mdf5\u001b[0m\u001b[1;33m[\u001b[0m\u001b[1;34m\"Stand\"\u001b[0m\u001b[1;33m]\u001b[0m\u001b[1;33m.\u001b[0m\u001b[0mstr\u001b[0m\u001b[1;33m.\u001b[0m\u001b[0mcontains\u001b[0m\u001b[1;33m(\u001b[0m\u001b[1;34m\"Nichtüberweisung\"\u001b[0m\u001b[1;33m)\u001b[0m\u001b[1;33m]\u001b[0m\u001b[1;33m\u001b[0m\u001b[1;33m\u001b[0m\u001b[0m\n\u001b[0m",
      "\u001b[1;32m~\\Anaconda3\\lib\\site-packages\\pandas\\core\\frame.py\u001b[0m in \u001b[0;36m__getitem__\u001b[1;34m(self, key)\u001b[0m\n\u001b[0;32m   2968\u001b[0m \u001b[1;33m\u001b[0m\u001b[0m\n\u001b[0;32m   2969\u001b[0m         \u001b[1;31m# Do we have a (boolean) 1d indexer?\u001b[0m\u001b[1;33m\u001b[0m\u001b[1;33m\u001b[0m\u001b[1;33m\u001b[0m\u001b[0m\n\u001b[1;32m-> 2970\u001b[1;33m         \u001b[1;32mif\u001b[0m \u001b[0mcom\u001b[0m\u001b[1;33m.\u001b[0m\u001b[0mis_bool_indexer\u001b[0m\u001b[1;33m(\u001b[0m\u001b[0mkey\u001b[0m\u001b[1;33m)\u001b[0m\u001b[1;33m:\u001b[0m\u001b[1;33m\u001b[0m\u001b[1;33m\u001b[0m\u001b[0m\n\u001b[0m\u001b[0;32m   2971\u001b[0m             \u001b[1;32mreturn\u001b[0m \u001b[0mself\u001b[0m\u001b[1;33m.\u001b[0m\u001b[0m_getitem_bool_array\u001b[0m\u001b[1;33m(\u001b[0m\u001b[0mkey\u001b[0m\u001b[1;33m)\u001b[0m\u001b[1;33m\u001b[0m\u001b[1;33m\u001b[0m\u001b[0m\n\u001b[0;32m   2972\u001b[0m \u001b[1;33m\u001b[0m\u001b[0m\n",
      "\u001b[1;32m~\\Anaconda3\\lib\\site-packages\\pandas\\core\\common.py\u001b[0m in \u001b[0;36mis_bool_indexer\u001b[1;34m(key)\u001b[0m\n\u001b[0;32m    128\u001b[0m             \u001b[1;32mif\u001b[0m \u001b[1;32mnot\u001b[0m \u001b[0mlib\u001b[0m\u001b[1;33m.\u001b[0m\u001b[0mis_bool_array\u001b[0m\u001b[1;33m(\u001b[0m\u001b[0mkey\u001b[0m\u001b[1;33m)\u001b[0m\u001b[1;33m:\u001b[0m\u001b[1;33m\u001b[0m\u001b[1;33m\u001b[0m\u001b[0m\n\u001b[0;32m    129\u001b[0m                 \u001b[1;32mif\u001b[0m \u001b[0misna\u001b[0m\u001b[1;33m(\u001b[0m\u001b[0mkey\u001b[0m\u001b[1;33m)\u001b[0m\u001b[1;33m.\u001b[0m\u001b[0many\u001b[0m\u001b[1;33m(\u001b[0m\u001b[1;33m)\u001b[0m\u001b[1;33m:\u001b[0m\u001b[1;33m\u001b[0m\u001b[1;33m\u001b[0m\u001b[0m\n\u001b[1;32m--> 130\u001b[1;33m                     \u001b[1;32mraise\u001b[0m \u001b[0mValueError\u001b[0m\u001b[1;33m(\u001b[0m\u001b[0mna_msg\u001b[0m\u001b[1;33m)\u001b[0m\u001b[1;33m\u001b[0m\u001b[1;33m\u001b[0m\u001b[0m\n\u001b[0m\u001b[0;32m    131\u001b[0m                 \u001b[1;32mreturn\u001b[0m \u001b[1;32mFalse\u001b[0m\u001b[1;33m\u001b[0m\u001b[1;33m\u001b[0m\u001b[0m\n\u001b[0;32m    132\u001b[0m             \u001b[1;32mreturn\u001b[0m \u001b[1;32mTrue\u001b[0m\u001b[1;33m\u001b[0m\u001b[1;33m\u001b[0m\u001b[0m\n",
      "\u001b[1;31mValueError\u001b[0m: cannot index with vector containing NA / NaN values"
     ]
    }
   ],
   "source": [
    "df5[df5[\"Stand\"].str.contains(\"Nichtüberweisung\")]"
   ]
  },
  {
   "cell_type": "code",
   "execution_count": null,
   "metadata": {},
   "outputs": [],
   "source": []
  },
  {
   "cell_type": "code",
   "execution_count": null,
   "metadata": {},
   "outputs": [],
   "source": []
  },
  {
   "cell_type": "code",
   "execution_count": null,
   "metadata": {},
   "outputs": [],
   "source": []
  },
  {
   "cell_type": "code",
   "execution_count": null,
   "metadata": {},
   "outputs": [],
   "source": []
  }
 ],
 "metadata": {
  "kernelspec": {
   "display_name": "Python 3",
   "language": "python",
   "name": "python3"
  },
  "language_info": {
   "codemirror_mode": {
    "name": "ipython",
    "version": 3
   },
   "file_extension": ".py",
   "mimetype": "text/x-python",
   "name": "python",
   "nbconvert_exporter": "python",
   "pygments_lexer": "ipython3",
   "version": "3.7.3"
  }
 },
 "nbformat": 4,
 "nbformat_minor": 2
}
